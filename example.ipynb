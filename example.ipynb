{
 "cells": [
  {
   "cell_type": "markdown",
   "metadata": {
    "deletable": true,
    "editable": true
   },
   "source": [
    "# Local Video Files and Builtin HTTP Server\n",
    "\n",
    "This example illustrates use of the video play widget when the video files are local to the Jupyter server.  You may need to change file names to match your situation.  I did not include any cumbersome video files in the widget repository. \n",
    "\n",
    "The Jupyter notebook server is a complex application developed with the tornado web server.  The Jupyter server and its extension system was simply too complicated for me to add the capabilities I needed for server video files.  The web server is derived entirely from standard Python library components (e.g. SimpleHTTPServer).\n",
    "\n",
    "The video widget also includes a handy dandy Python http web server with support for [byte range requests](https://en.wikipedia.org/wiki/Byte_serving).  \n"
   ]
  },
  {
   "cell_type": "code",
   "execution_count": 1,
   "metadata": {
    "collapsed": true,
    "deletable": true,
    "editable": true
   },
   "outputs": [],
   "source": [
    "import IPython\n",
    "import ipywidgets\n",
    "\n",
    "from jupyter_video_widget import Video"
   ]
  },
  {
   "cell_type": "markdown",
   "metadata": {
    "deletable": true,
    "editable": true
   },
   "source": [
    "# Setup"
   ]
  },
  {
   "cell_type": "code",
   "execution_count": 2,
   "metadata": {
    "collapsed": false,
    "deletable": true,
    "editable": true
   },
   "outputs": [
    {
     "data": {
      "text/plain": [
       "True"
      ]
     },
     "execution_count": 2,
     "metadata": {},
     "output_type": "execute_result"
    }
   ],
   "source": [
    "f = '/home/pierre/Videos/GoPro/Malibu/GOPR6250.intra.mp4'\n",
    "\n",
    "os.path.isfile(f)"
   ]
  },
  {
   "cell_type": "code",
   "execution_count": 3,
   "metadata": {
    "collapsed": false,
    "deletable": true,
    "editable": true,
    "scrolled": true
   },
   "outputs": [],
   "source": [
    "wid = Video(f)\n",
    "# wid.layout.width='900px'"
   ]
  },
  {
   "cell_type": "code",
   "execution_count": 4,
   "metadata": {
    "collapsed": false,
    "deletable": true,
    "editable": true
   },
   "outputs": [
    {
     "data": {
      "text/plain": [
       "'http://127.0.0.1:45423//GOPR6250.intra.mp4?v=CdEw6pwykLzv6yQKrwK9uJ'"
      ]
     },
     "execution_count": 4,
     "metadata": {},
     "output_type": "execute_result"
    }
   ],
   "source": [
    "wid.src"
   ]
  },
  {
   "cell_type": "code",
   "execution_count": 5,
   "metadata": {
    "collapsed": false,
    "deletable": true,
    "editable": true,
    "scrolled": true
   },
   "outputs": [
    {
     "data": {
      "application/vnd.jupyter.widget-view+json": {
       "model_id": "38b13acf0ff44b11bc57df82b7542042"
      }
     },
     "metadata": {},
     "output_type": "display_data"
    }
   ],
   "source": [
    "wid"
   ]
  },
  {
   "cell_type": "code",
   "execution_count": 17,
   "metadata": {
    "collapsed": false
   },
   "outputs": [],
   "source": [
    "wid.layout.border='2px solid grey'"
   ]
  },
  {
   "cell_type": "code",
   "execution_count": 8,
   "metadata": {
    "collapsed": false
   },
   "outputs": [
    {
     "data": {
      "text/plain": [
       "{'clientHeight': 553,\n",
       " 'clientWidth': 984,\n",
       " 'controls': True,\n",
       " 'currentSrc': 'http://127.0.0.1:45423//GOPR6250.intra.mp4?v=CdEw6pwykLzv6yQKrwK9uJ',\n",
       " 'currentTime': 10,\n",
       " 'duration': 15.574,\n",
       " 'ended': False,\n",
       " 'muted': False,\n",
       " 'paused': True,\n",
       " 'playbackRate': 1,\n",
       " 'readyState': 4,\n",
       " 'seeking': False,\n",
       " 'type': 'timeupdate',\n",
       " 'videoHeight': 1080,\n",
       " 'videoWidth': 1920,\n",
       " 'volume': 1}"
      ]
     },
     "execution_count": 8,
     "metadata": {},
     "output_type": "execute_result"
    }
   ],
   "source": [
    "wid.properties\n"
   ]
  },
  {
   "cell_type": "code",
   "execution_count": 20,
   "metadata": {
    "collapsed": false
   },
   "outputs": [
    {
     "data": {
      "text/plain": [
       "['Jupyter.Accordion',\n",
       " 'Jupyter.BoundedFloatText',\n",
       " 'Jupyter.BoundedIntText',\n",
       " 'Jupyter.Box',\n",
       " 'Jupyter.Button',\n",
       " 'Jupyter.ButtonStyle',\n",
       " 'Jupyter.Checkbox',\n",
       " 'Jupyter.ColorPicker',\n",
       " 'Jupyter.Controller',\n",
       " 'Jupyter.ControllerAxis',\n",
       " 'Jupyter.ControllerButton',\n",
       " 'Jupyter.DatePicker',\n",
       " 'Jupyter.Dropdown',\n",
       " 'Jupyter.FloatProgress',\n",
       " 'Jupyter.FloatRangeSlider',\n",
       " 'Jupyter.FloatSlider',\n",
       " 'Jupyter.FloatText',\n",
       " 'Jupyter.HBox',\n",
       " 'Jupyter.HTML',\n",
       " 'Jupyter.HTMLMath',\n",
       " 'Jupyter.Image',\n",
       " 'Jupyter.IntProgress',\n",
       " 'Jupyter.IntRangeSlider',\n",
       " 'Jupyter.IntSlider',\n",
       " 'Jupyter.IntText',\n",
       " 'Jupyter.Label',\n",
       " 'Jupyter.Play',\n",
       " 'Jupyter.ProgressStyle',\n",
       " 'Jupyter.RadioButtons',\n",
       " 'Jupyter.Select',\n",
       " 'Jupyter.SelectMultiple',\n",
       " 'Jupyter.SelectionSlider',\n",
       " 'Jupyter.SliderStyle',\n",
       " 'Jupyter.Tab',\n",
       " 'Jupyter.Text',\n",
       " 'Jupyter.Textarea',\n",
       " 'Jupyter.ToggleButton',\n",
       " 'Jupyter.ToggleButtons',\n",
       " 'Jupyter.VBox',\n",
       " 'Jupyter.Valid',\n",
       " 'jupyter.DirectionalLink',\n",
       " 'jupyter.Link',\n",
       " 'jupyter_video_widget.videoVideo']"
      ]
     },
     "execution_count": 20,
     "metadata": {},
     "output_type": "execute_result"
    }
   ],
   "source": [
    "sorted(ipywidgets.Widget.widget_types)"
   ]
  },
  {
   "cell_type": "code",
   "execution_count": 7,
   "metadata": {
    "collapsed": false,
    "deletable": true,
    "editable": true
   },
   "outputs": [
    {
     "data": {
      "application/vnd.jupyter.widget-view+json": {
       "model_id": "f5ae07a30f1145efb8ea0ee2aa3de3af"
      }
     },
     "metadata": {},
     "output_type": "display_data"
    }
   ],
   "source": [
    "\n",
    "wid_slider = ipywidgets.FloatSlider(description='Test:', min=0, max=10.0, step=1/30,\n",
    "                                    continuous_update=True, orientation='horizontal', readout=True,\n",
    "                                    readout_format='.2f', slider_color='white')\n",
    "\n",
    "ipywidgets.jslink((wid, 'current_time'), (wid_slider, 'value'))\n",
    "\n",
    "wid_slider"
   ]
  },
  {
   "cell_type": "code",
   "execution_count": 14,
   "metadata": {
    "collapsed": false,
    "deletable": true,
    "editable": true
   },
   "outputs": [
    {
     "data": {
      "application/vnd.jupyter.widget-view+json": {
       "model_id": "98330277f3104c4c981ea36d8523db7c"
      }
     },
     "metadata": {},
     "output_type": "display_data"
    }
   ],
   "source": [
    "wid_slider"
   ]
  },
  {
   "cell_type": "code",
   "execution_count": 15,
   "metadata": {
    "collapsed": true,
    "deletable": true,
    "editable": true
   },
   "outputs": [],
   "source": []
  },
  {
   "cell_type": "code",
   "execution_count": null,
   "metadata": {
    "collapsed": true,
    "deletable": true,
    "editable": true
   },
   "outputs": [],
   "source": [
    "wid.pause()"
   ]
  },
  {
   "cell_type": "code",
   "execution_count": 16,
   "metadata": {
    "collapsed": true,
    "deletable": true,
    "editable": true
   },
   "outputs": [],
   "source": [
    "wid.rewind()"
   ]
  },
  {
   "cell_type": "code",
   "execution_count": null,
   "metadata": {
    "collapsed": false,
    "deletable": true,
    "editable": true
   },
   "outputs": [],
   "source": [
    "wid.seek(10.2)"
   ]
  },
  {
   "cell_type": "code",
   "execution_count": null,
   "metadata": {
    "collapsed": false,
    "deletable": true,
    "editable": true
   },
   "outputs": [],
   "source": [
    "wid.set_property('controls', True)"
   ]
  },
  {
   "cell_type": "code",
   "execution_count": null,
   "metadata": {
    "collapsed": false,
    "deletable": true,
    "editable": true
   },
   "outputs": [],
   "source": [
    "wid._set_property('muted', True)"
   ]
  },
  {
   "cell_type": "code",
   "execution_count": null,
   "metadata": {
    "collapsed": false,
    "deletable": true,
    "editable": true
   },
   "outputs": [],
   "source": [
    "wid.currentTime"
   ]
  },
  {
   "cell_type": "code",
   "execution_count": null,
   "metadata": {
    "collapsed": true,
    "deletable": true,
    "editable": true
   },
   "outputs": [],
   "source": []
  }
 ],
 "metadata": {
  "kernelspec": {
   "display_name": "Python 3",
   "language": "python",
   "name": "python3"
  },
  "language_info": {
   "codemirror_mode": {
    "name": "ipython",
    "version": 3
   },
   "file_extension": ".py",
   "mimetype": "text/x-python",
   "name": "python",
   "nbconvert_exporter": "python",
   "pygments_lexer": "ipython3",
   "version": "3.5.2"
  },
  "widgets": {
   "state": {
    "4b36de550fa048eca86094e2f5854a38": {
     "views": [
      {
       "cell_index": 4
      },
      {
       "cell_index": 6
      }
     ]
    }
   },
   "version": "1.2.0"
  }
 },
 "nbformat": 4,
 "nbformat_minor": 2
}
