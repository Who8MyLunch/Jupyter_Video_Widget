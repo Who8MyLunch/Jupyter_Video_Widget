{
 "cells": [
  {
   "cell_type": "markdown",
   "metadata": {
    "deletable": true,
    "editable": true
   },
   "source": [
    "# Video in the Notebook"
   ]
  },
  {
   "cell_type": "code",
   "execution_count": 6,
   "metadata": {
    "collapsed": true,
    "deletable": true,
    "editable": true
   },
   "outputs": [],
   "source": [
    "# Custom handlers\n",
    "\n",
    "# http://jupyter-notebook.readthedocs.io/en/latest/extending/handlers.html\n",
    "# http://www.tornadoweb.org/en/stable/web.html#request-handlers\n",
    "    "
   ]
  },
  {
   "cell_type": "code",
   "execution_count": 7,
   "metadata": {
    "collapsed": false,
    "deletable": true,
    "editable": true
   },
   "outputs": [],
   "source": [
    "# http://mindtrove.info/4-ways-to-extend-jupyter-notebook/#nb-server-exts"
   ]
  },
  {
   "cell_type": "code",
   "execution_count": 3,
   "metadata": {
    "collapsed": false,
    "deletable": true,
    "editable": true
   },
   "outputs": [],
   "source": [
    "import IPython\n",
    "import ipywidgets"
   ]
  },
  {
   "cell_type": "code",
   "execution_count": 2,
   "metadata": {
    "collapsed": false,
    "deletable": true,
    "editable": true
   },
   "outputs": [
    {
     "name": "stdout",
     "output_type": "stream",
     "text": [
      "The autoreload extension is already loaded. To reload it, use:\n",
      "  %reload_ext autoreload\n"
     ]
    }
   ],
   "source": [
    "import fountain\n",
    "import jupyter_video_widget\n",
    "\n",
    "%load_ext autoreload\n",
    "\n",
    "%autoreload 2"
   ]
  },
  {
   "cell_type": "markdown",
   "metadata": {
    "deletable": true,
    "editable": true
   },
   "source": [
    "# Setup"
   ]
  },
  {
   "cell_type": "code",
   "execution_count": 4,
   "metadata": {
    "collapsed": true,
    "deletable": true,
    "editable": true
   },
   "outputs": [],
   "source": [
    "path_video = '/home/pierre/Videos/'\n",
    "folder = 'GoPro/Malibu'\n",
    "# fname = 'GOPR6250.MP4'\n",
    "fname = 'GOPR6250.intra.mp4'"
   ]
  },
  {
   "cell_type": "markdown",
   "metadata": {
    "deletable": true,
    "editable": true
   },
   "source": [
    "# Start File Server"
   ]
  },
  {
   "cell_type": "code",
   "execution_count": 4,
   "metadata": {
    "collapsed": false,
    "deletable": true,
    "editable": true
   },
   "outputs": [
    {
     "data": {
      "text/plain": [
       "32595"
      ]
     },
     "execution_count": 4,
     "metadata": {},
     "output_type": "execute_result"
    }
   ],
   "source": [
    "S = fountain.Server(path_video)\n",
    "S.start()"
   ]
  },
  {
   "cell_type": "code",
   "execution_count": 16,
   "metadata": {
    "collapsed": false,
    "deletable": true,
    "editable": true
   },
   "outputs": [
    {
     "ename": "NameError",
     "evalue": "name 'S' is not defined",
     "output_type": "error",
     "traceback": [
      "\u001b[0;31m---------------------------------------------------------------------------\u001b[0m",
      "\u001b[0;31mNameError\u001b[0m                                 Traceback (most recent call last)",
      "\u001b[0;32m<ipython-input-16-b1dccbd8eabb>\u001b[0m in \u001b[0;36m<module>\u001b[0;34m()\u001b[0m\n\u001b[0;32m----> 1\u001b[0;31m \u001b[0mprint\u001b[0m\u001b[0;34m(\u001b[0m\u001b[0mS\u001b[0m\u001b[0;34m.\u001b[0m\u001b[0mstatus\u001b[0m\u001b[0;34m)\u001b[0m\u001b[0;34m\u001b[0m\u001b[0m\n\u001b[0m",
      "\u001b[0;31mNameError\u001b[0m: name 'S' is not defined"
     ]
    }
   ],
   "source": [
    "print(S.status)"
   ]
  },
  {
   "cell_type": "code",
   "execution_count": 6,
   "metadata": {
    "collapsed": false,
    "deletable": true,
    "editable": true
   },
   "outputs": [],
   "source": [
    "# S.stop()"
   ]
  },
  {
   "cell_type": "code",
   "execution_count": 4,
   "metadata": {
    "collapsed": false,
    "deletable": true,
    "editable": true
   },
   "outputs": [
    {
     "data": {
      "text/plain": [
       "'http://127.0.0.1:9999/GOPR6250.intra.mp4'"
      ]
     },
     "execution_count": 4,
     "metadata": {},
     "output_type": "execute_result"
    }
   ],
   "source": [
    "# f = os.path.join(path_video, folder, fname)\n",
    "# url = S.filename_to_url(f) + '?ssssDDwDD'\n",
    "\n",
    "\n",
    "        \n",
    "url = 'http://127.0.0.1:9999/{}'.format(fname)\n",
    "url"
   ]
  },
  {
   "cell_type": "code",
   "execution_count": 5,
   "metadata": {
    "collapsed": false,
    "deletable": true,
    "editable": true,
    "scrolled": true
   },
   "outputs": [],
   "source": [
    "wid = jupyter_video_widget.Video(src=url)\n",
    "wid.layout.width='900px'"
   ]
  },
  {
   "cell_type": "code",
   "execution_count": 5,
   "metadata": {
    "collapsed": false,
    "deletable": true,
    "editable": true
   },
   "outputs": [],
   "source": [
    "import pathlib\n",
    "\n",
    "from aiohttp import web\n"
   ]
  },
  {
   "cell_type": "code",
   "execution_count": 11,
   "metadata": {
    "collapsed": true
   },
   "outputs": [],
   "source": [
    "from "
   ]
  },
  {
   "cell_type": "code",
   "execution_count": 18,
   "metadata": {
    "collapsed": false,
    "deletable": true,
    "editable": true,
    "scrolled": true
   },
   "outputs": [
    {
     "data": {
      "text/plain": [
       "'http://127.0.0.1:9999/GOPR6250.intra.mp4'"
      ]
     },
     "execution_count": 18,
     "metadata": {},
     "output_type": "execute_result"
    }
   ],
   "source": [
    "wid.src"
   ]
  },
  {
   "cell_type": "code",
   "execution_count": 19,
   "metadata": {
    "collapsed": false,
    "deletable": true,
    "editable": true
   },
   "outputs": [],
   "source": [
    "wid.seek(10)"
   ]
  },
  {
   "cell_type": "code",
   "execution_count": 40,
   "metadata": {
    "collapsed": false,
    "deletable": true,
    "editable": true
   },
   "outputs": [
    {
     "data": {
      "text/plain": [
       "0.0"
      ]
     },
     "execution_count": 40,
     "metadata": {},
     "output_type": "execute_result"
    }
   ],
   "source": [
    "wid.currentTime"
   ]
  },
  {
   "cell_type": "code",
   "execution_count": 18,
   "metadata": {
    "collapsed": true,
    "deletable": true,
    "editable": true
   },
   "outputs": [],
   "source": [
    "def handle_ready(wid, event):\n",
    "    \"\"\"\n",
    "    Function to be called when sufficient video metadata has been loaded at the frontend.\n",
    "    \"\"\"\n",
    "    print(wid.properties)\n",
    "    \n",
    "wid.on_event('loadedmetadata', handle_ready)"
   ]
  },
  {
   "cell_type": "code",
   "execution_count": 20,
   "metadata": {
    "collapsed": true,
    "deletable": true,
    "editable": true
   },
   "outputs": [],
   "source": [
    "def handle_seeked(wid, event):\n",
    "    \"\"\"\n",
    "    Function to be called when sufficient video metadata has been loaded at the frontend.\n",
    "    \"\"\"\n",
    "    print(wid.properties)\n",
    "    \n",
    "wid.on_event('seeked', handle_seeked)"
   ]
  },
  {
   "cell_type": "code",
   "execution_count": 19,
   "metadata": {
    "collapsed": false,
    "deletable": true,
    "editable": true
   },
   "outputs": [
    {
     "data": {
      "application/vnd.jupyter.widget-view+json": {
       "model_id": "5466f9490b6b416d84d4524977790e1a"
      }
     },
     "metadata": {},
     "output_type": "display_data"
    },
    {
     "name": "stdout",
     "output_type": "stream",
     "text": [
      "{}\n",
      "{'playbackRate': 1, 'currentTime': 0, 'volume': 0, 'controls': True, 'autoplay': False, 'videoWidth': 1920, 'loop': False, 'paused': True, 'videoHeight': 1080, 'clientHeight': 506, 'muted': False, 'currentSrc': 'http://127.0.0.1:8901/GoPro/Malibu/GOPR6250.intra.mp4?ssssDDwDD', 'ended': False, 'duration': 15.574, 'readyState': 4, 'type': 'loadedmetadata', 'clientWidth': 900, 'seeking': False}\n",
      "{'playbackRate': 1, 'currentTime': 7.795286, 'volume': 0, 'controls': True, 'autoplay': False, 'videoWidth': 1920, 'loop': False, 'paused': True, 'videoHeight': 1080, 'clientHeight': 506, 'muted': False, 'currentSrc': 'http://127.0.0.1:8901/GoPro/Malibu/GOPR6250.intra.mp4?ssssDDwDD', 'ended': False, 'duration': 15.574, 'readyState': 4, 'type': 'seeked', 'clientWidth': 900, 'seeking': False}\n",
      "{'playbackRate': 1, 'currentTime': 7.761952, 'volume': 0, 'controls': True, 'autoplay': False, 'videoWidth': 1920, 'loop': False, 'paused': True, 'videoHeight': 1080, 'clientHeight': 506, 'muted': False, 'currentSrc': 'http://127.0.0.1:8901/GoPro/Malibu/GOPR6250.intra.mp4?ssssDDwDD', 'ended': False, 'duration': 15.574, 'readyState': 4, 'type': 'seeked', 'clientWidth': 900, 'seeking': False}\n",
      "{'playbackRate': 1, 'currentTime': 7.728618, 'volume': 0, 'controls': True, 'autoplay': False, 'videoWidth': 1920, 'loop': False, 'paused': True, 'videoHeight': 1080, 'clientHeight': 506, 'muted': False, 'currentSrc': 'http://127.0.0.1:8901/GoPro/Malibu/GOPR6250.intra.mp4?ssssDDwDD', 'ended': False, 'duration': 15.574, 'readyState': 4, 'type': 'seeked', 'clientWidth': 900, 'seeking': False}\n",
      "{'playbackRate': 1, 'currentTime': 7.695284, 'volume': 0, 'controls': True, 'autoplay': False, 'videoWidth': 1920, 'loop': False, 'paused': True, 'videoHeight': 1080, 'clientHeight': 506, 'muted': False, 'currentSrc': 'http://127.0.0.1:8901/GoPro/Malibu/GOPR6250.intra.mp4?ssssDDwDD', 'ended': False, 'duration': 15.574, 'readyState': 4, 'type': 'seeked', 'clientWidth': 900, 'seeking': False}\n",
      "{'playbackRate': 1, 'currentTime': 7.66195, 'volume': 0, 'controls': True, 'autoplay': False, 'videoWidth': 1920, 'loop': False, 'paused': True, 'videoHeight': 1080, 'clientHeight': 506, 'muted': False, 'currentSrc': 'http://127.0.0.1:8901/GoPro/Malibu/GOPR6250.intra.mp4?ssssDDwDD', 'ended': False, 'duration': 15.574, 'readyState': 4, 'type': 'seeked', 'clientWidth': 900, 'seeking': False}\n",
      "{'playbackRate': 1, 'currentTime': 7.695283, 'volume': 0, 'controls': True, 'autoplay': False, 'videoWidth': 1920, 'loop': False, 'paused': True, 'videoHeight': 1080, 'clientHeight': 506, 'muted': False, 'currentSrc': 'http://127.0.0.1:8901/GoPro/Malibu/GOPR6250.intra.mp4?ssssDDwDD', 'ended': False, 'duration': 15.574, 'readyState': 4, 'type': 'seeked', 'clientWidth': 900, 'seeking': False}\n",
      "{'playbackRate': 1, 'currentTime': 7.728616, 'volume': 0, 'controls': True, 'autoplay': False, 'videoWidth': 1920, 'loop': False, 'paused': True, 'videoHeight': 1080, 'clientHeight': 506, 'muted': False, 'currentSrc': 'http://127.0.0.1:8901/GoPro/Malibu/GOPR6250.intra.mp4?ssssDDwDD', 'ended': False, 'duration': 15.574, 'readyState': 4, 'type': 'seeked', 'clientWidth': 900, 'seeking': False}\n",
      "{'playbackRate': 1, 'currentTime': 7.761949, 'volume': 0, 'controls': True, 'autoplay': False, 'videoWidth': 1920, 'loop': False, 'paused': True, 'videoHeight': 1080, 'clientHeight': 506, 'muted': False, 'currentSrc': 'http://127.0.0.1:8901/GoPro/Malibu/GOPR6250.intra.mp4?ssssDDwDD', 'ended': False, 'duration': 15.574, 'readyState': 4, 'type': 'seeked', 'clientWidth': 900, 'seeking': False}\n",
      "{'playbackRate': 1, 'currentTime': 11.57585, 'volume': 0, 'controls': True, 'autoplay': False, 'videoWidth': 1920, 'loop': False, 'paused': True, 'videoHeight': 1080, 'clientHeight': 506, 'muted': False, 'currentSrc': 'http://127.0.0.1:8901/GoPro/Malibu/GOPR6250.intra.mp4?ssssDDwDD', 'ended': False, 'duration': 15.574, 'readyState': 4, 'type': 'seeked', 'clientWidth': 900, 'seeking': False}\n"
     ]
    }
   ],
   "source": [
    "IPython.display.display(wid)\n",
    "print(wid.properties)\n",
    "\n",
    "wid.set_property('volume', 0)"
   ]
  },
  {
   "cell_type": "code",
   "execution_count": 23,
   "metadata": {
    "collapsed": false,
    "deletable": true,
    "editable": true
   },
   "outputs": [],
   "source": [
    "\n",
    "wid_slider = ipywidgets.FloatSlider(value=7.5,\n",
    "    min=0,\n",
    "    max=10.0,\n",
    "    step=1/30,\n",
    "    description='Test:',\n",
    "    continuous_update=True,\n",
    "    orientation='horizontal',\n",
    "    readout=True,\n",
    "    readout_format='.2f',\n",
    "    slider_color='white'\n",
    ")"
   ]
  },
  {
   "cell_type": "code",
   "execution_count": 24,
   "metadata": {
    "collapsed": false,
    "deletable": true,
    "editable": true
   },
   "outputs": [
    {
     "data": {
      "application/vnd.jupyter.widget-view+json": {
       "model_id": "352eb9366b574413856c2593db550bc2"
      }
     },
     "metadata": {},
     "output_type": "display_data"
    }
   ],
   "source": [
    "wid_slider"
   ]
  },
  {
   "cell_type": "code",
   "execution_count": 26,
   "metadata": {
    "collapsed": false,
    "deletable": true,
    "editable": true
   },
   "outputs": [],
   "source": [
    "wid_slider.max=14"
   ]
  },
  {
   "cell_type": "code",
   "execution_count": 11,
   "metadata": {
    "collapsed": false,
    "deletable": true,
    "editable": true
   },
   "outputs": [],
   "source": [
    "wid.currentTime=5"
   ]
  },
  {
   "cell_type": "code",
   "execution_count": null,
   "metadata": {
    "collapsed": true,
    "deletable": true,
    "editable": true
   },
   "outputs": [],
   "source": []
  },
  {
   "cell_type": "code",
   "execution_count": 14,
   "metadata": {
    "collapsed": true,
    "deletable": true,
    "editable": true
   },
   "outputs": [],
   "source": [
    "wid.pause()"
   ]
  },
  {
   "cell_type": "code",
   "execution_count": 33,
   "metadata": {
    "collapsed": true,
    "deletable": true,
    "editable": true
   },
   "outputs": [],
   "source": [
    "wid.rewind()"
   ]
  },
  {
   "cell_type": "code",
   "execution_count": 16,
   "metadata": {
    "collapsed": false,
    "deletable": true,
    "editable": true
   },
   "outputs": [],
   "source": [
    "wid.seek(10.2)"
   ]
  },
  {
   "cell_type": "code",
   "execution_count": 39,
   "metadata": {
    "collapsed": false,
    "deletable": true,
    "editable": true
   },
   "outputs": [],
   "source": [
    "wid.set_property('controls', True)"
   ]
  },
  {
   "cell_type": "code",
   "execution_count": 15,
   "metadata": {
    "collapsed": false,
    "deletable": true,
    "editable": true
   },
   "outputs": [],
   "source": [
    "wid._set_property('muted', True)"
   ]
  },
  {
   "cell_type": "code",
   "execution_count": 16,
   "metadata": {
    "collapsed": false,
    "deletable": true,
    "editable": true
   },
   "outputs": [
    {
     "data": {
      "text/plain": [
       "5.0"
      ]
     },
     "execution_count": 16,
     "metadata": {},
     "output_type": "execute_result"
    }
   ],
   "source": [
    "wid.currentTime"
   ]
  },
  {
   "cell_type": "code",
   "execution_count": null,
   "metadata": {
    "collapsed": true,
    "deletable": true,
    "editable": true
   },
   "outputs": [],
   "source": []
  }
 ],
 "metadata": {
  "kernelspec": {
   "display_name": "Python 3",
   "language": "python",
   "name": "python3"
  },
  "language_info": {
   "codemirror_mode": {
    "name": "ipython",
    "version": 3
   },
   "file_extension": ".py",
   "mimetype": "text/x-python",
   "name": "python",
   "nbconvert_exporter": "python",
   "pygments_lexer": "ipython3",
   "version": "3.5.2"
  },
  "widgets": {
   "state": {
    "4b36de550fa048eca86094e2f5854a38": {
     "views": [
      {
       "cell_index": 4
      },
      {
       "cell_index": 6
      }
     ]
    }
   },
   "version": "1.2.0"
  }
 },
 "nbformat": 4,
 "nbformat_minor": 2
}
