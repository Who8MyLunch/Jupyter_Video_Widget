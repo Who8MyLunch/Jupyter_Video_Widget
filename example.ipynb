{
 "cells": [
  {
   "cell_type": "markdown",
   "metadata": {
    "deletable": true,
    "editable": true
   },
   "source": [
    "# Video in the Notebook"
   ]
  },
  {
   "cell_type": "code",
   "execution_count": 2,
   "metadata": {
    "collapsed": false,
    "deletable": true,
    "editable": true
   },
   "outputs": [],
   "source": [
    "import IPython\n",
    "import ipywidgets"
   ]
  },
  {
   "cell_type": "code",
   "execution_count": 3,
   "metadata": {
    "collapsed": true,
    "deletable": true,
    "editable": true
   },
   "outputs": [],
   "source": [
    "import fountain\n",
    "import jupyter_video_widget"
   ]
  },
  {
   "cell_type": "markdown",
   "metadata": {
    "deletable": true,
    "editable": true
   },
   "source": [
    "# Setup"
   ]
  },
  {
   "cell_type": "code",
   "execution_count": 4,
   "metadata": {
    "collapsed": true,
    "deletable": true,
    "editable": true
   },
   "outputs": [],
   "source": [
    "path_video = '/home/pierre/Videos/'\n",
    "folder = 'GoPro/Malibu'\n",
    "# fname = 'GOPR6250.MP4'\n",
    "fname = 'GOPR6250.intra.mp4'"
   ]
  },
  {
   "cell_type": "markdown",
   "metadata": {
    "deletable": true,
    "editable": true
   },
   "source": [
    "# Start File Server"
   ]
  },
  {
   "cell_type": "code",
   "execution_count": 5,
   "metadata": {
    "collapsed": false,
    "deletable": true,
    "editable": true
   },
   "outputs": [
    {
     "data": {
      "text/plain": [
       "28671"
      ]
     },
     "execution_count": 5,
     "metadata": {},
     "output_type": "execute_result"
    }
   ],
   "source": [
    "S = fountain.Server(path_video)\n",
    "S.start()"
   ]
  },
  {
   "cell_type": "code",
   "execution_count": 6,
   "metadata": {
    "collapsed": false,
    "deletable": true,
    "editable": true
   },
   "outputs": [
    {
     "name": "stdout",
     "output_type": "stream",
     "text": [
      "\n",
      "Server Status\n",
      "-------------\n",
      "Data path: /home/pierre/Videos\n",
      "URL Root:  http://127.0.0.1:8864\n",
      "PID:       28671\n",
      "Running:   True\n",
      "\n"
     ]
    }
   ],
   "source": [
    "print(S.status)"
   ]
  },
  {
   "cell_type": "code",
   "execution_count": 7,
   "metadata": {
    "collapsed": false,
    "deletable": true,
    "editable": true
   },
   "outputs": [],
   "source": [
    "# S.stop()"
   ]
  },
  {
   "cell_type": "code",
   "execution_count": 8,
   "metadata": {
    "collapsed": false,
    "deletable": true,
    "editable": true
   },
   "outputs": [],
   "source": [
    "f = os.path.join(path_video, folder, fname)\n",
    "url = S.filename_to_url(f)"
   ]
  },
  {
   "cell_type": "code",
   "execution_count": 9,
   "metadata": {
    "collapsed": false,
    "deletable": true,
    "editable": true
   },
   "outputs": [
    {
     "data": {
      "text/plain": [
       "'http://127.0.0.1:8864/GoPro/Malibu/GOPR6250.intra.mp4'"
      ]
     },
     "execution_count": 9,
     "metadata": {},
     "output_type": "execute_result"
    }
   ],
   "source": [
    "url"
   ]
  },
  {
   "cell_type": "code",
   "execution_count": 10,
   "metadata": {
    "collapsed": false,
    "deletable": true,
    "editable": true,
    "scrolled": true
   },
   "outputs": [
    {
     "data": {
      "application/vnd.jupyter.widget-view+json": {
       "model_id": "f19739e7184b433dba26039cb7dafe61"
      }
     },
     "metadata": {},
     "output_type": "display_data"
    },
    {
     "name": "stdout",
     "output_type": "stream",
     "text": [
      "{'controls': True, 'clientHeight': 393, 'timeStamp': 192614.32, 'ended': False, 'currentTime': 0, 'volume': 0.557142857142857, 'muted': False, 'type': 'volumechange', 'duration': 15.574, 'seeking': False, 'videoWidth': 1920, 'playbackRate': 1, 'clientWidth': 700, 'videoHeight': 1080, 'paused': True}\n",
      "{'controls': True, 'clientHeight': 393, 'timeStamp': 192629.07, 'ended': False, 'currentTime': 0, 'volume': 0.542857142857143, 'muted': False, 'type': 'volumechange', 'duration': 15.574, 'seeking': False, 'videoWidth': 1920, 'playbackRate': 1, 'clientWidth': 700, 'videoHeight': 1080, 'paused': True}\n",
      "{'controls': True, 'clientHeight': 393, 'timeStamp': 198860.40000000002, 'ended': False, 'currentTime': 0, 'volume': 0.542857142857143, 'muted': True, 'type': 'volumechange', 'duration': 15.574, 'seeking': False, 'videoWidth': 1920, 'playbackRate': 1, 'clientWidth': 700, 'videoHeight': 1080, 'paused': True}\n",
      "{'controls': True, 'clientHeight': 393, 'timeStamp': 229253.15500000003, 'ended': False, 'currentTime': 0, 'volume': 0.542857142857143, 'muted': True, 'type': 'play', 'duration': 15.574, 'seeking': False, 'videoWidth': 1920, 'playbackRate': 1, 'clientWidth': 700, 'videoHeight': 1080, 'paused': False}\n",
      "{'controls': True, 'clientHeight': 393, 'timeStamp': 229253.17, 'ended': False, 'currentTime': 0, 'volume': 0.542857142857143, 'muted': True, 'type': 'playing', 'duration': 15.574, 'seeking': False, 'videoWidth': 1920, 'playbackRate': 1, 'clientWidth': 700, 'videoHeight': 1080, 'paused': False}\n",
      "{'controls': True, 'clientHeight': 393, 'timeStamp': 229503.36000000002, 'ended': False, 'currentTime': 0.047632, 'volume': 0.542857142857143, 'muted': True, 'type': 'timeupdate', 'duration': 15.574, 'seeking': False, 'videoWidth': 1920, 'playbackRate': 1, 'clientWidth': 700, 'videoHeight': 1080, 'paused': False}\n",
      "{'controls': True, 'clientHeight': 393, 'timeStamp': 230003.34, 'ended': False, 'currentTime': 0.546177, 'volume': 0.542857142857143, 'muted': True, 'type': 'timeupdate', 'duration': 15.574, 'seeking': False, 'videoWidth': 1920, 'playbackRate': 1, 'clientWidth': 700, 'videoHeight': 1080, 'paused': False}\n",
      "{'controls': True, 'clientHeight': 393, 'timeStamp': 230348.845, 'ended': False, 'currentTime': 0.896652, 'volume': 0.542857142857143, 'muted': True, 'type': 'timeupdate', 'duration': 15.574, 'seeking': False, 'videoWidth': 1920, 'playbackRate': 1, 'clientWidth': 700, 'videoHeight': 1080, 'paused': True}\n",
      "{'controls': True, 'clientHeight': 393, 'timeStamp': 230348.86500000002, 'ended': False, 'currentTime': 0.896652, 'volume': 0.542857142857143, 'muted': True, 'type': 'pause', 'duration': 15.574, 'seeking': False, 'videoWidth': 1920, 'playbackRate': 1, 'clientWidth': 700, 'videoHeight': 1080, 'paused': True}\n",
      "{'controls': True, 'clientHeight': 393, 'timeStamp': 240062.09000000003, 'ended': False, 'currentTime': 1.002667, 'volume': 0.542857142857143, 'muted': True, 'type': 'play', 'duration': 15.574, 'seeking': False, 'videoWidth': 1920, 'playbackRate': 1, 'clientWidth': 700, 'videoHeight': 1080, 'paused': False}\n",
      "{'controls': True, 'clientHeight': 393, 'timeStamp': 240062.09500000003, 'ended': False, 'currentTime': 1.002667, 'volume': 0.542857142857143, 'muted': True, 'type': 'playing', 'duration': 15.574, 'seeking': False, 'videoWidth': 1920, 'playbackRate': 1, 'clientWidth': 700, 'videoHeight': 1080, 'paused': False}\n",
      "{'controls': True, 'clientHeight': 393, 'timeStamp': 240312.37500000003, 'ended': False, 'currentTime': 1.18021, 'volume': 0.542857142857143, 'muted': True, 'type': 'timeupdate', 'duration': 15.574, 'seeking': False, 'videoWidth': 1920, 'playbackRate': 1, 'clientWidth': 700, 'videoHeight': 1080, 'paused': False}\n",
      "{'controls': True, 'clientHeight': 393, 'timeStamp': 240562.45500000002, 'ended': False, 'currentTime': 1.431142, 'volume': 0.542857142857143, 'muted': True, 'type': 'timeupdate', 'duration': 15.574, 'seeking': False, 'videoWidth': 1920, 'playbackRate': 1, 'clientWidth': 700, 'videoHeight': 1080, 'paused': False}\n",
      "{'controls': True, 'clientHeight': 393, 'timeStamp': 240821.06500000003, 'ended': False, 'currentTime': 1.689598, 'volume': 0.542857142857143, 'muted': True, 'type': 'timeupdate', 'duration': 15.574, 'seeking': False, 'videoWidth': 1920, 'playbackRate': 1, 'clientWidth': 700, 'videoHeight': 1080, 'paused': True}\n",
      "{'controls': True, 'clientHeight': 393, 'timeStamp': 240821.08000000002, 'ended': False, 'currentTime': 1.689598, 'volume': 0.542857142857143, 'muted': True, 'type': 'pause', 'duration': 15.574, 'seeking': False, 'videoWidth': 1920, 'playbackRate': 1, 'clientWidth': 700, 'videoHeight': 1080, 'paused': True}\n",
      "{'controls': True, 'clientHeight': 393, 'timeStamp': 251587.30000000002, 'ended': False, 'currentTime': 4, 'volume': 0.542857142857143, 'muted': True, 'type': 'timeupdate', 'duration': 15.574, 'seeking': False, 'videoWidth': 1920, 'playbackRate': 1, 'clientWidth': 700, 'videoHeight': 1080, 'paused': True}\n",
      "{'controls': True, 'clientHeight': 393, 'timeStamp': 251587.325, 'ended': False, 'currentTime': 4, 'volume': 0.542857142857143, 'muted': True, 'type': 'timeupdate', 'duration': 15.574, 'seeking': False, 'videoWidth': 1920, 'playbackRate': 1, 'clientWidth': 700, 'videoHeight': 1080, 'paused': True}\n",
      "{'controls': True, 'clientHeight': 393, 'timeStamp': 277651.02, 'ended': False, 'currentTime': 12, 'volume': 0.542857142857143, 'muted': True, 'type': 'timeupdate', 'duration': 15.574, 'seeking': False, 'videoWidth': 1920, 'playbackRate': 1, 'clientWidth': 700, 'videoHeight': 1080, 'paused': True}\n",
      "{'controls': True, 'clientHeight': 393, 'timeStamp': 277651.045, 'ended': False, 'currentTime': 12, 'volume': 0.542857142857143, 'muted': True, 'type': 'timeupdate', 'duration': 15.574, 'seeking': False, 'videoWidth': 1920, 'playbackRate': 1, 'clientWidth': 700, 'videoHeight': 1080, 'paused': True}\n",
      "{'controls': True, 'clientHeight': 393, 'timeStamp': 283286.23000000004, 'ended': False, 'currentTime': 12.002978, 'volume': 0.542857142857143, 'muted': True, 'type': 'play', 'duration': 15.574, 'seeking': False, 'videoWidth': 1920, 'playbackRate': 1, 'clientWidth': 700, 'videoHeight': 1080, 'paused': False}\n",
      "{'controls': True, 'clientHeight': 393, 'timeStamp': 283286.24000000005, 'ended': False, 'currentTime': 12.003346, 'volume': 0.542857142857143, 'muted': True, 'type': 'playing', 'duration': 15.574, 'seeking': False, 'videoWidth': 1920, 'playbackRate': 1, 'clientWidth': 700, 'videoHeight': 1080, 'paused': False}\n",
      "{'controls': True, 'clientHeight': 393, 'timeStamp': 283536.41000000003, 'ended': False, 'currentTime': 12.190421, 'volume': 0.542857142857143, 'muted': True, 'type': 'timeupdate', 'duration': 15.574, 'seeking': False, 'videoWidth': 1920, 'playbackRate': 1, 'clientWidth': 700, 'videoHeight': 1080, 'paused': False}\n",
      "{'controls': True, 'clientHeight': 393, 'timeStamp': 283786.43, 'ended': False, 'currentTime': 12.437366, 'volume': 0.542857142857143, 'muted': True, 'type': 'timeupdate', 'duration': 15.574, 'seeking': False, 'videoWidth': 1920, 'playbackRate': 1, 'clientWidth': 700, 'videoHeight': 1080, 'paused': False}\n",
      "{'controls': True, 'clientHeight': 393, 'timeStamp': 284286.42000000004, 'ended': False, 'currentTime': 12.94122, 'volume': 0.542857142857143, 'muted': True, 'type': 'timeupdate', 'duration': 15.574, 'seeking': False, 'videoWidth': 1920, 'playbackRate': 1, 'clientWidth': 700, 'videoHeight': 1080, 'paused': False}\n",
      "{'controls': True, 'clientHeight': 393, 'timeStamp': 284786.43500000006, 'ended': False, 'currentTime': 13.447203, 'volume': 0.542857142857143, 'muted': True, 'type': 'timeupdate', 'duration': 15.574, 'seeking': False, 'videoWidth': 1920, 'playbackRate': 1, 'clientWidth': 700, 'videoHeight': 1080, 'paused': False}\n",
      "{'controls': True, 'clientHeight': 393, 'timeStamp': 285286.38, 'ended': False, 'currentTime': 13.951084, 'volume': 0.542857142857143, 'muted': True, 'type': 'timeupdate', 'duration': 15.574, 'seeking': False, 'videoWidth': 1920, 'playbackRate': 1, 'clientWidth': 700, 'videoHeight': 1080, 'paused': False}\n",
      "{'controls': True, 'clientHeight': 393, 'timeStamp': 285536.425, 'ended': False, 'currentTime': 14.203484, 'volume': 0.542857142857143, 'muted': True, 'type': 'timeupdate', 'duration': 15.574, 'seeking': False, 'videoWidth': 1920, 'playbackRate': 1, 'clientWidth': 700, 'videoHeight': 1080, 'paused': False}\n",
      "{'controls': True, 'clientHeight': 393, 'timeStamp': 285884, 'ended': False, 'currentTime': 14.552685, 'volume': 0.542857142857143, 'muted': True, 'type': 'timeupdate', 'duration': 15.574, 'seeking': False, 'videoWidth': 1920, 'playbackRate': 1, 'clientWidth': 700, 'videoHeight': 1080, 'paused': True}\n",
      "{'controls': True, 'clientHeight': 393, 'timeStamp': 285884.01000000007, 'ended': False, 'currentTime': 14.552685, 'volume': 0.542857142857143, 'muted': True, 'type': 'pause', 'duration': 15.574, 'seeking': False, 'videoWidth': 1920, 'playbackRate': 1, 'clientWidth': 700, 'videoHeight': 1080, 'paused': True}\n",
      "{'controls': True, 'clientHeight': 393, 'timeStamp': 295058.555, 'ended': False, 'currentTime': 14.656, 'volume': 0.542857142857143, 'muted': True, 'type': 'play', 'duration': 15.574, 'seeking': False, 'videoWidth': 1920, 'playbackRate': 1, 'clientWidth': 700, 'videoHeight': 1080, 'paused': False}\n",
      "{'controls': True, 'clientHeight': 393, 'timeStamp': 295058.58, 'ended': False, 'currentTime': 14.656, 'volume': 0.542857142857143, 'muted': True, 'type': 'playing', 'duration': 15.574, 'seeking': False, 'videoWidth': 1920, 'playbackRate': 1, 'clientWidth': 700, 'videoHeight': 1080, 'paused': False}\n",
      "{'controls': True, 'clientHeight': 393, 'timeStamp': 295308.9, 'ended': False, 'currentTime': 14.80964, 'volume': 0.542857142857143, 'muted': True, 'type': 'timeupdate', 'duration': 15.574, 'seeking': False, 'videoWidth': 1920, 'playbackRate': 1, 'clientWidth': 700, 'videoHeight': 1080, 'paused': False}\n",
      "{'controls': True, 'clientHeight': 393, 'timeStamp': 295809.085, 'ended': False, 'currentTime': 15.309084, 'volume': 0.542857142857143, 'muted': True, 'type': 'timeupdate', 'duration': 15.574, 'seeking': False, 'videoWidth': 1920, 'playbackRate': 1, 'clientWidth': 700, 'videoHeight': 1080, 'paused': False}\n",
      "{'controls': True, 'clientHeight': 393, 'timeStamp': 296078.5, 'ended': True, 'currentTime': 15.574, 'volume': 0.542857142857143, 'muted': True, 'type': 'timeupdate', 'duration': 15.574, 'seeking': False, 'videoWidth': 1920, 'playbackRate': 1, 'clientWidth': 700, 'videoHeight': 1080, 'paused': True}\n",
      "{'controls': True, 'clientHeight': 393, 'timeStamp': 296078.515, 'ended': True, 'currentTime': 15.574, 'volume': 0.542857142857143, 'muted': True, 'type': 'ended', 'duration': 15.574, 'seeking': False, 'videoWidth': 1920, 'playbackRate': 1, 'clientWidth': 700, 'videoHeight': 1080, 'paused': True}\n",
      "{'controls': True, 'clientHeight': 393, 'timeStamp': 296172.98500000004, 'ended': False, 'currentTime': 0, 'volume': 0.542857142857143, 'muted': True, 'type': 'play', 'duration': 15.574, 'seeking': True, 'videoWidth': 1920, 'playbackRate': 1, 'clientWidth': 700, 'videoHeight': 1080, 'paused': False}\n",
      "{'controls': True, 'clientHeight': 393, 'timeStamp': 296229.68000000005, 'ended': False, 'currentTime': 0.005111, 'volume': 0.542857142857143, 'muted': True, 'type': 'timeupdate', 'duration': 15.574, 'seeking': False, 'videoWidth': 1920, 'playbackRate': 1, 'clientWidth': 700, 'videoHeight': 1080, 'paused': False}\n",
      "{'controls': True, 'clientHeight': 393, 'timeStamp': 296229.73000000004, 'ended': False, 'currentTime': 0.008234, 'volume': 0.542857142857143, 'muted': True, 'type': 'timeupdate', 'duration': 15.574, 'seeking': False, 'videoWidth': 1920, 'playbackRate': 1, 'clientWidth': 700, 'videoHeight': 1080, 'paused': False}\n",
      "{'controls': True, 'clientHeight': 393, 'timeStamp': 296673.32000000007, 'ended': False, 'currentTime': 0.370904, 'volume': 0.542857142857143, 'muted': True, 'type': 'timeupdate', 'duration': 15.574, 'seeking': False, 'videoWidth': 1920, 'playbackRate': 1, 'clientWidth': 700, 'videoHeight': 1080, 'paused': False}\n",
      "{'controls': True, 'clientHeight': 393, 'timeStamp': 297173.06, 'ended': False, 'currentTime': 0.86004, 'volume': 0.542857142857143, 'muted': True, 'type': 'timeupdate', 'duration': 15.574, 'seeking': False, 'videoWidth': 1920, 'playbackRate': 1, 'clientWidth': 700, 'videoHeight': 1080, 'paused': False}\n",
      "{'controls': True, 'clientHeight': 393, 'timeStamp': 297423.125, 'ended': False, 'currentTime': 1.110949, 'volume': 0.542857142857143, 'muted': True, 'type': 'timeupdate', 'duration': 15.574, 'seeking': False, 'videoWidth': 1920, 'playbackRate': 1, 'clientWidth': 700, 'videoHeight': 1080, 'paused': False}\n",
      "{'controls': True, 'clientHeight': 393, 'timeStamp': 297673.125, 'ended': False, 'currentTime': 1.352767, 'volume': 0.542857142857143, 'muted': True, 'type': 'timeupdate', 'duration': 15.574, 'seeking': False, 'videoWidth': 1920, 'playbackRate': 1, 'clientWidth': 700, 'videoHeight': 1080, 'paused': False}\n",
      "{'controls': True, 'clientHeight': 393, 'timeStamp': 297923.15, 'ended': False, 'currentTime': 1.60348, 'volume': 0.542857142857143, 'muted': True, 'type': 'timeupdate', 'duration': 15.574, 'seeking': False, 'videoWidth': 1920, 'playbackRate': 1, 'clientWidth': 700, 'videoHeight': 1080, 'paused': False}\n",
      "{'controls': True, 'clientHeight': 393, 'timeStamp': 298173.22000000003, 'ended': False, 'currentTime': 1.855796, 'volume': 0.542857142857143, 'muted': True, 'type': 'timeupdate', 'duration': 15.574, 'seeking': False, 'videoWidth': 1920, 'playbackRate': 1, 'clientWidth': 700, 'videoHeight': 1080, 'paused': False}\n",
      "{'controls': True, 'clientHeight': 393, 'timeStamp': 298426.86000000004, 'ended': False, 'currentTime': 2.249685, 'volume': 0.542857142857143, 'muted': True, 'type': 'timeupdate', 'duration': 15.574, 'seeking': False, 'videoWidth': 1920, 'playbackRate': 1, 'clientWidth': 700, 'videoHeight': 1080, 'paused': False}\n",
      "{'controls': True, 'clientHeight': 393, 'timeStamp': 298631.0150000001, 'ended': False, 'currentTime': 2.316292, 'volume': 0.542857142857143, 'muted': True, 'type': 'timeupdate', 'duration': 15.574, 'seeking': False, 'videoWidth': 1920, 'playbackRate': 1, 'clientWidth': 700, 'videoHeight': 1080, 'paused': False}\n",
      "{'controls': True, 'clientHeight': 393, 'timeStamp': 298695.60000000003, 'ended': False, 'currentTime': 2.382447, 'volume': 0.542857142857143, 'muted': True, 'type': 'playing', 'duration': 15.574, 'seeking': False, 'videoWidth': 1920, 'playbackRate': 1, 'clientWidth': 700, 'videoHeight': 1080, 'paused': False}\n",
      "{'controls': True, 'clientHeight': 393, 'timeStamp': 298695.605, 'ended': False, 'currentTime': 2.383812, 'volume': 0.542857142857143, 'muted': True, 'type': 'canplaythrough', 'duration': 15.574, 'seeking': False, 'videoWidth': 1920, 'playbackRate': 1, 'clientWidth': 700, 'videoHeight': 1080, 'paused': False}\n",
      "{'controls': True, 'clientHeight': 393, 'timeStamp': 298923.11, 'ended': False, 'currentTime': 2.5541, 'volume': 0.542857142857143, 'muted': True, 'type': 'timeupdate', 'duration': 15.574, 'seeking': False, 'videoWidth': 1920, 'playbackRate': 1, 'clientWidth': 700, 'videoHeight': 1080, 'paused': False}\n",
      "{'controls': True, 'clientHeight': 393, 'timeStamp': 299173.1400000001, 'ended': False, 'currentTime': 2.804678, 'volume': 0.542857142857143, 'muted': True, 'type': 'timeupdate', 'duration': 15.574, 'seeking': False, 'videoWidth': 1920, 'playbackRate': 1, 'clientWidth': 700, 'videoHeight': 1080, 'paused': False}\n",
      "{'controls': True, 'clientHeight': 393, 'timeStamp': 299425.69000000006, 'ended': False, 'currentTime': 3.057888, 'volume': 0.542857142857143, 'muted': True, 'type': 'timeupdate', 'duration': 15.574, 'seeking': False, 'videoWidth': 1920, 'playbackRate': 1, 'clientWidth': 700, 'videoHeight': 1080, 'paused': False}\n",
      "{'controls': True, 'clientHeight': 393, 'timeStamp': 299684.78, 'ended': False, 'currentTime': 3.32579, 'volume': 0.542857142857143, 'muted': True, 'type': 'timeupdate', 'duration': 15.574, 'seeking': False, 'videoWidth': 1920, 'playbackRate': 1, 'clientWidth': 700, 'videoHeight': 1080, 'paused': False}\n",
      "{'controls': True, 'clientHeight': 393, 'timeStamp': 300185.15, 'ended': False, 'currentTime': 3.868095, 'volume': 0.542857142857143, 'muted': True, 'type': 'timeupdate', 'duration': 15.574, 'seeking': False, 'videoWidth': 1920, 'playbackRate': 1, 'clientWidth': 700, 'videoHeight': 1080, 'paused': False}\n",
      "{'controls': True, 'clientHeight': 393, 'timeStamp': 300673.16000000003, 'ended': False, 'currentTime': 4.301464, 'volume': 0.542857142857143, 'muted': True, 'type': 'timeupdate', 'duration': 15.574, 'seeking': False, 'videoWidth': 1920, 'playbackRate': 1, 'clientWidth': 700, 'videoHeight': 1080, 'paused': False}\n",
      "{'controls': True, 'clientHeight': 393, 'timeStamp': 300923.245, 'ended': False, 'currentTime': 4.551969, 'volume': 0.542857142857143, 'muted': True, 'type': 'timeupdate', 'duration': 15.574, 'seeking': False, 'videoWidth': 1920, 'playbackRate': 1, 'clientWidth': 700, 'videoHeight': 1080, 'paused': False}\n",
      "{'controls': True, 'clientHeight': 393, 'timeStamp': 301423.09500000003, 'ended': False, 'currentTime': 5.053075, 'volume': 0.542857142857143, 'muted': True, 'type': 'timeupdate', 'duration': 15.574, 'seeking': False, 'videoWidth': 1920, 'playbackRate': 1, 'clientWidth': 700, 'videoHeight': 1080, 'paused': False}\n",
      "{'controls': True, 'clientHeight': 393, 'timeStamp': 301673.135, 'ended': False, 'currentTime': 5.304495, 'volume': 0.542857142857143, 'muted': True, 'type': 'timeupdate', 'duration': 15.574, 'seeking': False, 'videoWidth': 1920, 'playbackRate': 1, 'clientWidth': 700, 'videoHeight': 1080, 'paused': False}\n",
      "{'controls': True, 'clientHeight': 393, 'timeStamp': 301923.18, 'ended': False, 'currentTime': 5.554326, 'volume': 0.542857142857143, 'muted': True, 'type': 'timeupdate', 'duration': 15.574, 'seeking': False, 'videoWidth': 1920, 'playbackRate': 1, 'clientWidth': 700, 'videoHeight': 1080, 'paused': False}\n",
      "{'controls': True, 'clientHeight': 393, 'timeStamp': 302424.80500000005, 'ended': False, 'currentTime': 6.065275, 'volume': 0.542857142857143, 'muted': True, 'type': 'timeupdate', 'duration': 15.574, 'seeking': False, 'videoWidth': 1920, 'playbackRate': 1, 'clientWidth': 700, 'videoHeight': 1080, 'paused': False}\n",
      "{'controls': True, 'clientHeight': 393, 'timeStamp': 302690.23000000004, 'ended': False, 'currentTime': 6.325235, 'volume': 0.542857142857143, 'muted': True, 'type': 'timeupdate', 'duration': 15.574, 'seeking': False, 'videoWidth': 1920, 'playbackRate': 1, 'clientWidth': 700, 'videoHeight': 1080, 'paused': False}\n",
      "{'controls': True, 'clientHeight': 393, 'timeStamp': 303173.175, 'ended': False, 'currentTime': 6.800222, 'volume': 0.542857142857143, 'muted': True, 'type': 'timeupdate', 'duration': 15.574, 'seeking': False, 'videoWidth': 1920, 'playbackRate': 1, 'clientWidth': 700, 'videoHeight': 1080, 'paused': False}\n",
      "{'controls': True, 'clientHeight': 393, 'timeStamp': 303673.125, 'ended': False, 'currentTime': 7.301257, 'volume': 0.542857142857143, 'muted': True, 'type': 'timeupdate', 'duration': 15.574, 'seeking': False, 'videoWidth': 1920, 'playbackRate': 1, 'clientWidth': 700, 'videoHeight': 1080, 'paused': False}\n",
      "{'controls': True, 'clientHeight': 393, 'timeStamp': 303923.13, 'ended': False, 'currentTime': 7.551823, 'volume': 0.542857142857143, 'muted': True, 'type': 'timeupdate', 'duration': 15.574, 'seeking': False, 'videoWidth': 1920, 'playbackRate': 1, 'clientWidth': 700, 'videoHeight': 1080, 'paused': False}\n",
      "{'controls': True, 'clientHeight': 393, 'timeStamp': 304173.15, 'ended': False, 'currentTime': 7.804415, 'volume': 0.542857142857143, 'muted': True, 'type': 'timeupdate', 'duration': 15.574, 'seeking': False, 'videoWidth': 1920, 'playbackRate': 1, 'clientWidth': 700, 'videoHeight': 1080, 'paused': False}\n",
      "{'controls': True, 'clientHeight': 393, 'timeStamp': 304673.11, 'ended': False, 'currentTime': 8.305597, 'volume': 0.542857142857143, 'muted': True, 'type': 'timeupdate', 'duration': 15.574, 'seeking': False, 'videoWidth': 1920, 'playbackRate': 1, 'clientWidth': 700, 'videoHeight': 1080, 'paused': False}\n",
      "{'controls': True, 'clientHeight': 393, 'timeStamp': 304923.19000000006, 'ended': False, 'currentTime': 8.557895, 'volume': 0.542857142857143, 'muted': True, 'type': 'timeupdate', 'duration': 15.574, 'seeking': False, 'videoWidth': 1920, 'playbackRate': 1, 'clientWidth': 700, 'videoHeight': 1080, 'paused': False}\n",
      "{'controls': True, 'clientHeight': 393, 'timeStamp': 305423.195, 'ended': False, 'currentTime': 9.059373, 'volume': 0.542857142857143, 'muted': True, 'type': 'timeupdate', 'duration': 15.574, 'seeking': False, 'videoWidth': 1920, 'playbackRate': 1, 'clientWidth': 700, 'videoHeight': 1080, 'paused': False}\n",
      "{'controls': True, 'clientHeight': 393, 'timeStamp': 305923.24000000005, 'ended': False, 'currentTime': 9.55161, 'volume': 0.542857142857143, 'muted': True, 'type': 'timeupdate', 'duration': 15.574, 'seeking': False, 'videoWidth': 1920, 'playbackRate': 1, 'clientWidth': 700, 'videoHeight': 1080, 'paused': False}\n",
      "{'controls': True, 'clientHeight': 393, 'timeStamp': 306423.17000000004, 'ended': False, 'currentTime': 10.052836, 'volume': 0.542857142857143, 'muted': True, 'type': 'timeupdate', 'duration': 15.574, 'seeking': False, 'videoWidth': 1920, 'playbackRate': 1, 'clientWidth': 700, 'videoHeight': 1080, 'paused': False}\n",
      "{'controls': True, 'clientHeight': 393, 'timeStamp': 306923.125, 'ended': False, 'currentTime': 10.55385, 'volume': 0.542857142857143, 'muted': True, 'type': 'timeupdate', 'duration': 15.574, 'seeking': False, 'videoWidth': 1920, 'playbackRate': 1, 'clientWidth': 700, 'videoHeight': 1080, 'paused': False}\n",
      "{'controls': True, 'clientHeight': 393, 'timeStamp': 307173.15, 'ended': False, 'currentTime': 10.806332, 'volume': 0.542857142857143, 'muted': True, 'type': 'timeupdate', 'duration': 15.574, 'seeking': False, 'videoWidth': 1920, 'playbackRate': 1, 'clientWidth': 700, 'videoHeight': 1080, 'paused': False}\n",
      "{'controls': True, 'clientHeight': 393, 'timeStamp': 307673.145, 'ended': False, 'currentTime': 11.307555, 'volume': 0.542857142857143, 'muted': True, 'type': 'timeupdate', 'duration': 15.574, 'seeking': False, 'videoWidth': 1920, 'playbackRate': 1, 'clientWidth': 700, 'videoHeight': 1080, 'paused': False}\n",
      "{'controls': True, 'clientHeight': 393, 'timeStamp': 308173.2050000001, 'ended': False, 'currentTime': 11.8107, 'volume': 0.542857142857143, 'muted': True, 'type': 'timeupdate', 'duration': 15.574, 'seeking': False, 'videoWidth': 1920, 'playbackRate': 1, 'clientWidth': 700, 'videoHeight': 1080, 'paused': False}\n",
      "{'controls': True, 'clientHeight': 393, 'timeStamp': 308673.18500000006, 'ended': False, 'currentTime': 12.301076, 'volume': 0.542857142857143, 'muted': True, 'type': 'timeupdate', 'duration': 15.574, 'seeking': False, 'videoWidth': 1920, 'playbackRate': 1, 'clientWidth': 700, 'videoHeight': 1080, 'paused': False}\n",
      "{'controls': True, 'clientHeight': 393, 'timeStamp': 309173.23500000004, 'ended': False, 'currentTime': 12.804107, 'volume': 0.542857142857143, 'muted': True, 'type': 'timeupdate', 'duration': 15.574, 'seeking': False, 'videoWidth': 1920, 'playbackRate': 1, 'clientWidth': 700, 'videoHeight': 1080, 'paused': False}\n",
      "{'controls': True, 'clientHeight': 393, 'timeStamp': 309673.19000000006, 'ended': False, 'currentTime': 13.305349, 'volume': 0.542857142857143, 'muted': True, 'type': 'timeupdate', 'duration': 15.574, 'seeking': False, 'videoWidth': 1920, 'playbackRate': 1, 'clientWidth': 700, 'videoHeight': 1080, 'paused': False}\n",
      "{'controls': True, 'clientHeight': 393, 'timeStamp': 309923.195, 'ended': False, 'currentTime': 13.555934, 'volume': 0.542857142857143, 'muted': True, 'type': 'timeupdate', 'duration': 15.574, 'seeking': False, 'videoWidth': 1920, 'playbackRate': 1, 'clientWidth': 700, 'videoHeight': 1080, 'paused': False}\n",
      "{'controls': True, 'clientHeight': 393, 'timeStamp': 310124.82500000007, 'ended': False, 'currentTime': 13.761662, 'volume': 0.542857142857143, 'muted': True, 'type': 'timeupdate', 'duration': 15.574, 'seeking': False, 'videoWidth': 1920, 'playbackRate': 1, 'clientWidth': 700, 'videoHeight': 1080, 'paused': True}\n",
      "{'controls': True, 'clientHeight': 393, 'timeStamp': 310124.835, 'ended': False, 'currentTime': 13.761662, 'volume': 0.542857142857143, 'muted': True, 'type': 'pause', 'duration': 15.574, 'seeking': False, 'videoWidth': 1920, 'playbackRate': 1, 'clientWidth': 700, 'videoHeight': 1080, 'paused': True}\n",
      "{'controls': True, 'clientHeight': 393, 'timeStamp': 318418.43500000006, 'ended': False, 'currentTime': 10, 'volume': 0.542857142857143, 'muted': True, 'type': 'timeupdate', 'duration': 15.574, 'seeking': False, 'videoWidth': 1920, 'playbackRate': 1, 'clientWidth': 700, 'videoHeight': 1080, 'paused': True}\n",
      "{'controls': True, 'clientHeight': 393, 'timeStamp': 318418.46, 'ended': False, 'currentTime': 10, 'volume': 0.542857142857143, 'muted': True, 'type': 'timeupdate', 'duration': 15.574, 'seeking': False, 'videoWidth': 1920, 'playbackRate': 1, 'clientWidth': 700, 'videoHeight': 1080, 'paused': True}\n",
      "{'controls': True, 'clientHeight': 393, 'timeStamp': 328384.95, 'ended': False, 'currentTime': 10.1, 'volume': 0.542857142857143, 'muted': True, 'type': 'timeupdate', 'duration': 15.574, 'seeking': False, 'videoWidth': 1920, 'playbackRate': 1, 'clientWidth': 700, 'videoHeight': 1080, 'paused': True}\n",
      "{'controls': True, 'clientHeight': 393, 'timeStamp': 328385.05500000005, 'ended': False, 'currentTime': 10.1, 'volume': 0.542857142857143, 'muted': True, 'type': 'timeupdate', 'duration': 15.574, 'seeking': False, 'videoWidth': 1920, 'playbackRate': 1, 'clientWidth': 700, 'videoHeight': 1080, 'paused': True}\n",
      "{'controls': True, 'clientHeight': 393, 'timeStamp': 332161.07000000007, 'ended': False, 'currentTime': 10.2, 'volume': 0.542857142857143, 'muted': True, 'type': 'timeupdate', 'duration': 15.574, 'seeking': False, 'videoWidth': 1920, 'playbackRate': 1, 'clientWidth': 700, 'videoHeight': 1080, 'paused': True}\n",
      "{'controls': True, 'clientHeight': 393, 'timeStamp': 332161.10500000004, 'ended': False, 'currentTime': 10.2, 'volume': 0.542857142857143, 'muted': True, 'type': 'timeupdate', 'duration': 15.574, 'seeking': False, 'videoWidth': 1920, 'playbackRate': 1, 'clientWidth': 700, 'videoHeight': 1080, 'paused': True}\n"
     ]
    }
   ],
   "source": [
    "wid = jupyter_video_widget.Video(url)\n",
    "wid.layout.width='700px'\n",
    "\n",
    "wid"
   ]
  },
  {
   "cell_type": "code",
   "execution_count": 11,
   "metadata": {
    "collapsed": true,
    "deletable": true,
    "editable": true
   },
   "outputs": [],
   "source": [
    "def handle(w, s):\n",
    "    print(s)\n",
    "    \n",
    "wid.on_event(handle)"
   ]
  },
  {
   "cell_type": "code",
   "execution_count": 11,
   "metadata": {
    "collapsed": false,
    "deletable": true,
    "editable": true
   },
   "outputs": [],
   "source": [
    "# wid.on_event(handle, remove=True)"
   ]
  },
  {
   "cell_type": "code",
   "execution_count": 18,
   "metadata": {
    "collapsed": false,
    "deletable": true,
    "editable": true
   },
   "outputs": [],
   "source": [
    "wid.play()"
   ]
  },
  {
   "cell_type": "code",
   "execution_count": 19,
   "metadata": {
    "collapsed": true,
    "deletable": true,
    "editable": true
   },
   "outputs": [],
   "source": [
    "wid.pause()"
   ]
  },
  {
   "cell_type": "code",
   "execution_count": 22,
   "metadata": {
    "collapsed": false,
    "deletable": true,
    "editable": true
   },
   "outputs": [],
   "source": [
    "wid.seek(10.2)"
   ]
  },
  {
   "cell_type": "code",
   "execution_count": 23,
   "metadata": {
    "collapsed": false,
    "deletable": true,
    "editable": true
   },
   "outputs": [],
   "source": [
    "wid._set_property('controls', False)"
   ]
  },
  {
   "cell_type": "code",
   "execution_count": 15,
   "metadata": {
    "collapsed": false,
    "deletable": true,
    "editable": true
   },
   "outputs": [],
   "source": [
    "wid._set_property('muted', True)"
   ]
  },
  {
   "cell_type": "code",
   "execution_count": 24,
   "metadata": {
    "collapsed": false,
    "deletable": true,
    "editable": true
   },
   "outputs": [
    {
     "data": {
      "text/plain": [
       "{'clientHeight': 393,\n",
       " 'clientWidth': 700,\n",
       " 'controls': True,\n",
       " 'currentTime': 10.2,\n",
       " 'duration': 15.574,\n",
       " 'ended': False,\n",
       " 'muted': True,\n",
       " 'paused': True,\n",
       " 'playbackRate': 1,\n",
       " 'seeking': False,\n",
       " 'timeStamp': 332161.10500000004,\n",
       " 'type': 'timeupdate',\n",
       " 'videoHeight': 1080,\n",
       " 'videoWidth': 1920,\n",
       " 'volume': 0.542857142857143}"
      ]
     },
     "execution_count": 24,
     "metadata": {},
     "output_type": "execute_result"
    }
   ],
   "source": [
    "wid._event"
   ]
  },
  {
   "cell_type": "code",
   "execution_count": 26,
   "metadata": {
    "collapsed": false,
    "deletable": true,
    "editable": true
   },
   "outputs": [],
   "source": [
    "ipywidgets.trait_types.traitlets.Float"
   ]
  },
  {
   "cell_type": "code",
   "execution_count": 28,
   "metadata": {
    "collapsed": false
   },
   "outputs": [],
   "source": [
    "wid.__dict__['hello'] = 5"
   ]
  },
  {
   "cell_type": "code",
   "execution_count": 29,
   "metadata": {
    "collapsed": false
   },
   "outputs": [
    {
     "data": {
      "text/plain": [
       "5"
      ]
     },
     "execution_count": 29,
     "metadata": {},
     "output_type": "execute_result"
    }
   ],
   "source": [
    "wid.hello"
   ]
  },
  {
   "cell_type": "code",
   "execution_count": null,
   "metadata": {
    "collapsed": true
   },
   "outputs": [],
   "source": []
  }
 ],
 "metadata": {
  "kernelspec": {
   "display_name": "Python 3",
   "language": "python",
   "name": "python3"
  },
  "language_info": {
   "codemirror_mode": {
    "name": "ipython",
    "version": 3
   },
   "file_extension": ".py",
   "mimetype": "text/x-python",
   "name": "python",
   "nbconvert_exporter": "python",
   "pygments_lexer": "ipython3",
   "version": "3.5.2"
  },
  "widgets": {
   "state": {
    "4b36de550fa048eca86094e2f5854a38": {
     "views": [
      {
       "cell_index": 4
      },
      {
       "cell_index": 6
      }
     ]
    }
   },
   "version": "1.2.0"
  }
 },
 "nbformat": 4,
 "nbformat_minor": 2
}
