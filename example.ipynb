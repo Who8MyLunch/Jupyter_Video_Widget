{
 "cells": [
  {
   "cell_type": "markdown",
   "metadata": {},
   "source": [
    "# Local Video Files and Builtin HTTP Server\n",
    "\n",
    "This example illustrates use of the video play widget when the video files are local to the Jupyter server.  You may need to change file names to match your situation.  I did not include any cumbersome video files in the widget repository. \n",
    "\n",
    "The Jupyter notebook server is a complex application developed with the tornado web server.  The Jupyter server and its extension system was simply too complicated for me to add the capabilities I needed for server video files.  The web server is derived entirely from standard Python library components (e.g. SimpleHTTPServer).\n",
    "\n",
    "The video widget also includes a handy dandy Python http web server with support for [byte range requests](https://en.wikipedia.org/wiki/Byte_serving).  \n"
   ]
  },
  {
   "cell_type": "code",
   "execution_count": 5,
   "metadata": {},
   "outputs": [],
   "source": [
    "import IPython\n",
    "import ipywidgets\n",
    "\n",
    "from video_widget import Video"
   ]
  },
  {
   "cell_type": "markdown",
   "metadata": {},
   "source": [
    "# Setup"
   ]
  },
  {
   "cell_type": "code",
   "execution_count": 6,
   "metadata": {},
   "outputs": [
    {
     "data": {
      "text/plain": [
       "True"
      ]
     },
     "execution_count": 6,
     "metadata": {},
     "output_type": "execute_result"
    }
   ],
   "source": [
    "f = '/home/pierre/Videos/GoPro/Malibu/GOPR6250.intra.mp4'\n",
    "\n",
    "os.path.isfile(f)"
   ]
  },
  {
   "cell_type": "code",
   "execution_count": 3,
   "metadata": {
    "scrolled": true
   },
   "outputs": [
    {
     "ename": "NameError",
     "evalue": "name 'Video' is not defined",
     "output_type": "error",
     "traceback": [
      "\u001b[0;31m---------------------------------------------------------------------------\u001b[0m",
      "\u001b[0;31mNameError\u001b[0m                                 Traceback (most recent call last)",
      "\u001b[0;32m<ipython-input-3-97bbe148604c>\u001b[0m in \u001b[0;36m<module>\u001b[0;34m()\u001b[0m\n\u001b[0;32m----> 1\u001b[0;31m \u001b[0mwid\u001b[0m \u001b[0;34m=\u001b[0m \u001b[0mVideo\u001b[0m\u001b[0;34m(\u001b[0m\u001b[0mf\u001b[0m\u001b[0;34m)\u001b[0m\u001b[0;34m\u001b[0m\u001b[0m\n\u001b[0m\u001b[1;32m      2\u001b[0m \u001b[0;31m# wid.layout.width='900px'\u001b[0m\u001b[0;34m\u001b[0m\u001b[0;34m\u001b[0m\u001b[0m\n",
      "\u001b[0;31mNameError\u001b[0m: name 'Video' is not defined"
     ]
    }
   ],
   "source": [
    "wid = Video(f)\n",
    "# wid.layout.width='900px'"
   ]
  },
  {
   "cell_type": "code",
   "execution_count": 4,
   "metadata": {},
   "outputs": [
    {
     "data": {
      "text/plain": [
       "'http://127.0.0.1:33379//GOPR6250.intra.mp4?v=WEjuxLyYqw6eaWgyBdRh4D'"
      ]
     },
     "execution_count": 4,
     "metadata": {},
     "output_type": "execute_result"
    }
   ],
   "source": [
    "wid.src"
   ]
  },
  {
   "cell_type": "code",
   "execution_count": 5,
   "metadata": {
    "scrolled": true
   },
   "outputs": [
    {
     "data": {
      "application/vnd.jupyter.widget-view+json": {
       "model_id": "c2e531935eef43f6b2c27f8bfebe5a84"
      }
     },
     "metadata": {},
     "output_type": "display_data"
    }
   ],
   "source": [
    "wid"
   ]
  },
  {
   "cell_type": "code",
   "execution_count": null,
   "metadata": {
    "collapsed": true
   },
   "outputs": [],
   "source": []
  },
  {
   "cell_type": "code",
   "execution_count": null,
   "metadata": {
    "collapsed": true
   },
   "outputs": [],
   "source": []
  },
  {
   "cell_type": "code",
   "execution_count": 403,
   "metadata": {},
   "outputs": [
    {
     "data": {
      "application/vnd.jupyter.widget-view+json": {
       "model_id": "94a39601bb074c5ca7f6f86ca49d4f48"
      }
     },
     "metadata": {},
     "output_type": "display_data"
    }
   ],
   "source": [
    "wid_html = ipywidgets.HTML()\n",
    "\n",
    "wid_html.layout.border='1px solid grey'\n",
    "wid_html.layout.width='fit-content'\n",
    "wid_html.layout.justify_content = 'center'\n",
    "\n",
    "wid_html"
   ]
  },
  {
   "cell_type": "code",
   "execution_count": 404,
   "metadata": {
    "collapsed": true
   },
   "outputs": [],
   "source": [
    "template = \"\"\"\n",
    "<p style=\"font-family: DejaVu Sans Mono, Consolas, Lucida Console, Monospace;\n",
    "          font-variant: normal;\n",
    "          font-weight: bold;\n",
    "          font-style: normal;\n",
    "          margin-left: 2pt;\n",
    "          margin-right: 2pt;\n",
    "          font-size: 10pt;\n",
    "          line-height: 13pt;\n",
    "          \">{}</p>\n",
    "\"\"\"\n",
    "\n",
    "html = template.format('01:23:15 2sdf3/30')"
   ]
  },
  {
   "cell_type": "code",
   "execution_count": 405,
   "metadata": {},
   "outputs": [],
   "source": [
    "wid_html.value=html"
   ]
  },
  {
   "cell_type": "code",
   "execution_count": 412,
   "metadata": {},
   "outputs": [],
   "source": [
    "\n",
    "wid_html.layout.width='110pt'"
   ]
  },
  {
   "cell_type": "code",
   "execution_count": null,
   "metadata": {
    "collapsed": true
   },
   "outputs": [],
   "source": []
  }
 ],
 "metadata": {
  "kernelspec": {
   "display_name": "Python 3",
   "language": "python",
   "name": "python3"
  },
  "language_info": {
   "codemirror_mode": {
    "name": "ipython",
    "version": 3
   },
   "file_extension": ".py",
   "mimetype": "text/x-python",
   "name": "python",
   "nbconvert_exporter": "python",
   "pygments_lexer": "ipython3",
   "version": "3.5.2"
  },
  "widgets": {
   "state": {
    "4b36de550fa048eca86094e2f5854a38": {
     "views": [
      {
       "cell_index": 4
      },
      {
       "cell_index": 6
      }
     ]
    }
   },
   "version": "1.2.0"
  }
 },
 "nbformat": 4,
 "nbformat_minor": 2
}
