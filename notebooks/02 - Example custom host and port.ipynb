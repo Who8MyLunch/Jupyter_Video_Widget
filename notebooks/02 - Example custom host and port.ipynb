{
 "cells": [
  {
   "cell_type": "markdown",
   "metadata": {},
   "source": [
    "# Deployed Server, Remote Client, Video Files on the Server\n",
    "\n",
    "This is a notional example viewing video files that are local to the server, but the client is accessing the server from a remote location.  I don't have easy access at the moment to such a deployed system, so it might take several iteration to get this functionality properely implemented.\n"
   ]
  },
  {
   "cell_type": "code",
   "execution_count": 1,
   "metadata": {},
   "outputs": [],
   "source": [
    "import os\n",
    "\n",
    "import IPython\n",
    "import ipywidgets\n",
    "\n",
    "# import nutmeg\n",
    "from jpy_video import Video"
   ]
  },
  {
   "cell_type": "code",
   "execution_count": 2,
   "metadata": {},
   "outputs": [
    {
     "data": {
      "text/html": [
       "\n",
       "<style>\n",
       "    div#notebook-container    { width: 95%; }\n",
       "    div#menubar-container     { width: 65%; }\n",
       "    div#maintoolbar-container { width: 99%; }\n",
       "</style>\n"
      ],
      "text/plain": [
       "<IPython.core.display.HTML object>"
      ]
     },
     "metadata": {},
     "output_type": "display_data"
    }
   ],
   "source": [
    "from IPython.display import display, HTML\n",
    "\n",
    "display(HTML(data=\"\"\"\n",
    "<style>\n",
    "    div#notebook-container    { width: 95%; }\n",
    "    div#menubar-container     { width: 65%; }\n",
    "    div#maintoolbar-container { width: 99%; }\n",
    "</style>\n",
    "\"\"\"))\n"
   ]
  },
  {
   "cell_type": "markdown",
   "metadata": {},
   "source": [
    "# Setup"
   ]
  },
  {
   "cell_type": "code",
   "execution_count": 3,
   "metadata": {},
   "outputs": [
    {
     "data": {
      "text/plain": [
       "True"
      ]
     },
     "execution_count": 3,
     "metadata": {},
     "output_type": "execute_result"
    }
   ],
   "source": [
    "f = '/home/pierre/Projects/GoProHelper/notebooks/data/GOPR8802.intra.mp4'\n",
    "# f = '/home/pierre/Projects/GoProHelper/notebooks/data/GOPR8801.intra.mp4'\n",
    "\n",
    "os.path.isfile(f)"
   ]
  },
  {
   "cell_type": "markdown",
   "metadata": {},
   "source": [
    "# Host and Port Configuration\n",
    "\n",
    "Configuring http server host and port values was previously handled automatically behind the scenes.  However, some applications might benefit from being able to setup custom configurations.  Each person's deployed scenario is going to have its own quirks and features, so this widget is only going to expose a very basic functionality.  It will be up to each user to investigate proper settings for their scenario.\n",
    "\n",
    "In order to specify a customer host and port the user **must** use the method `set_filename()` instead of specifying the filename as an argument when the widget is instantiated.  If your client is not on the same system as the server, then you must figure out how that server exposes local ports and hostnames to the outside world.\n",
    "\n",
    "See the cell below for a very simple example using the port number only.  A custom host is specified using the exact same function."
   ]
  },
  {
   "cell_type": "code",
   "execution_count": 20,
   "metadata": {
    "scrolled": false
   },
   "outputs": [],
   "source": [
    "wid = Video()\n",
    "\n",
    "# Custom port, default hostname\n",
    "wid.set_filename(f, port=25015)\n",
    "\n",
    "# Auto-selected port (via port=0), custom hostname\n",
    "# wid.set_filename(f, host='www.mylittlehost.com', port=0)"
   ]
  },
  {
   "cell_type": "code",
   "execution_count": 17,
   "metadata": {},
   "outputs": [],
   "source": [
    "wid._enable_keyboard=True"
   ]
  },
  {
   "cell_type": "code",
   "execution_count": 10,
   "metadata": {
    "scrolled": false
   },
   "outputs": [
    {
     "data": {
      "application/vnd.jupyter.widget-view+json": {
       "model_id": "7983de3e0a3445df914dc844f67cbe4f",
       "version_major": 2,
       "version_minor": 0
      },
      "text/html": [
       "<p>Failed to display Jupyter Widget of type <code>Video</code>.</p>\n",
       "<p>\n",
       "  If you're reading this message in Jupyter Notebook or JupyterLab, it may mean\n",
       "  that the widgets JavaScript is still loading. If this message persists, it\n",
       "  likely means that the widgets JavaScript library is either not installed or\n",
       "  not enabled. See the <a href=\"https://ipywidgets.readthedocs.io/en/stable/user_install.html\">Jupyter\n",
       "  Widgets Documentation</a> for setup instructions.\n",
       "</p>\n",
       "<p>\n",
       "  If you're reading this message in another notebook frontend (for example, a static\n",
       "  rendering on GitHub or <a href=\"https://nbviewer.jupyter.org/\">NBViewer</a>),\n",
       "  it may mean that your frontend doesn't currently support widgets.\n",
       "</p>\n"
      ],
      "text/plain": [
       "Video(layout=Layout(align_self='center', width='100%'), src='http://127.0.0.1:25012//GOPR8802.intra.mp4?v=UNih6ex4hNzmGbusQX27vU', timebase=0.03333333333333333)"
      ]
     },
     "metadata": {},
     "output_type": "display_data"
    }
   ],
   "source": [
    "wid.display()"
   ]
  },
  {
   "cell_type": "markdown",
   "metadata": {},
   "source": [
    "# Host and Port Values"
   ]
  },
  {
   "cell_type": "code",
   "execution_count": 21,
   "metadata": {},
   "outputs": [
    {
     "name": "stdout",
     "output_type": "stream",
     "text": [
      "Port: 25015\n",
      "Host: 127.0.0.1\n"
     ]
    }
   ],
   "source": [
    "print('Port: {}'.format(wid.server.port))\n",
    "print('Host: {}'.format(wid.server.host))\n"
   ]
  },
  {
   "cell_type": "markdown",
   "metadata": {},
   "source": [
    "# Widget Properties"
   ]
  },
  {
   "cell_type": "code",
   "execution_count": 15,
   "metadata": {
    "scrolled": false
   },
   "outputs": [
    {
     "data": {
      "text/plain": [
       "[{type        : 'seeked',\n",
       "  clientHeight: 670,\n",
       "  clientWidth : 1193,\n",
       "  controls    : True,\n",
       "  currentTime : 0,\n",
       "  currentSrc  : 'http://127.0.0.1:25012//GOPR8802.intra.mp4?v=UNih6ex4hNzmGbusQX27vU',\n",
       "  duration    : 16.192,\n",
       "  ended       : False,\n",
       "  muted       : False,\n",
       "  paused      : True,\n",
       "  playbackRate: 1,\n",
       "  readyState  : 4,\n",
       "  seeking     : False,\n",
       "  videoHeight : 540,\n",
       "  videoWidth  : 961,\n",
       "  volume      : 1}]"
      ]
     },
     "execution_count": 15,
     "metadata": {},
     "output_type": "execute_result"
    }
   ],
   "source": [
    "wid.properties"
   ]
  },
  {
   "cell_type": "code",
   "execution_count": null,
   "metadata": {},
   "outputs": [],
   "source": []
  }
 ],
 "metadata": {
  "kernelspec": {
   "display_name": "Python 3",
   "language": "python",
   "name": "python3"
  },
  "language_info": {
   "codemirror_mode": {
    "name": "ipython",
    "version": 3
   },
   "file_extension": ".py",
   "mimetype": "text/x-python",
   "name": "python",
   "nbconvert_exporter": "python",
   "pygments_lexer": "ipython3",
   "version": "3.6.1"
  },
  "widgets": {
   "state": {
    "4b36de550fa048eca86094e2f5854a38": {
     "views": [
      {
       "cell_index": 4
      },
      {
       "cell_index": 6
      }
     ]
    }
   },
   "version": "1.2.0"
  }
 },
 "nbformat": 4,
 "nbformat_minor": 2
}
