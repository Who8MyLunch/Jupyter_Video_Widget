{
 "cells": [
  {
   "cell_type": "markdown",
   "metadata": {},
   "source": [
    "# Develop Compound Video Player Widget"
   ]
  },
  {
   "cell_type": "markdown",
   "metadata": {},
   "source": [
    "Most everything in this notebook is a work in progress."
   ]
  },
  {
   "cell_type": "code",
   "execution_count": 1,
   "metadata": {
    "collapsed": true
   },
   "outputs": [],
   "source": [
    "import os\n",
    "import IPython\n",
    "import ipywidgets\n",
    "\n",
    "# import nutmeg\n",
    "\n",
    "from jpy_video import Video, TimeCode, compound"
   ]
  },
  {
   "cell_type": "code",
   "execution_count": 2,
   "metadata": {},
   "outputs": [
    {
     "data": {
      "text/html": [
       "\n",
       "<style>\n",
       "    div#notebook-container    { width: 95%; }\n",
       "    div#menubar-container     { width: 65%; }\n",
       "    div#maintoolbar-container { width: 99%; }\n",
       "</style>\n"
      ],
      "text/plain": [
       "<IPython.core.display.HTML object>"
      ]
     },
     "metadata": {},
     "output_type": "display_data"
    }
   ],
   "source": [
    "from IPython.display import display, HTML\n",
    "\n",
    "display(HTML(data=\"\"\"\n",
    "<style>\n",
    "    div#notebook-container    { width: 95%; }\n",
    "    div#menubar-container     { width: 65%; }\n",
    "    div#maintoolbar-container { width: 99%; }\n",
    "</style>\n",
    "\"\"\"))\n"
   ]
  },
  {
   "cell_type": "markdown",
   "metadata": {},
   "source": [
    "# Setup"
   ]
  },
  {
   "cell_type": "code",
   "execution_count": 12,
   "metadata": {},
   "outputs": [
    {
     "data": {
      "text/plain": [
       "True"
      ]
     },
     "execution_count": 12,
     "metadata": {},
     "output_type": "execute_result"
    }
   ],
   "source": [
    "f = '/home/pierre/Projects/GoProHelper/notebooks/data/GOPR8802.intra.mp4'\n",
    "\n",
    "os.path.isfile(f)"
   ]
  },
  {
   "cell_type": "code",
   "execution_count": 13,
   "metadata": {
    "collapsed": true
   },
   "outputs": [],
   "source": [
    "fps = 59.9"
   ]
  },
  {
   "cell_type": "code",
   "execution_count": 14,
   "metadata": {
    "collapsed": true
   },
   "outputs": [],
   "source": [
    "wid = compound.VideoPlayer(f)#, 1/fps)"
   ]
  },
  {
   "cell_type": "code",
   "execution_count": 15,
   "metadata": {
    "scrolled": false
   },
   "outputs": [
    {
     "data": {
      "application/vnd.jupyter.widget-view+json": {
       "model_id": "647e741ce3504b33b2c6b58fcff16414",
       "version_major": 2,
       "version_minor": 0
      },
      "text/plain": [
       "A Jupyter Widget"
      ]
     },
     "metadata": {},
     "output_type": "display_data"
    }
   ],
   "source": [
    "wid.display()"
   ]
  },
  {
   "cell_type": "code",
   "execution_count": 7,
   "metadata": {},
   "outputs": [
    {
     "data": {
      "text/plain": [
       "[{type        : 'pause',\n",
       "  clientHeight: 1078,\n",
       "  clientWidth : 1918,\n",
       "  controls    : True,\n",
       "  currentTime : 11.456438,\n",
       "  currentSrc  : 'http://127.0.0.1:37190//GOPR8802.intra.mp4?v=GNiwyCx3qBdipuLYBkewkn',\n",
       "  duration    : 16.192,\n",
       "  ended       : False,\n",
       "  muted       : False,\n",
       "  paused      : True,\n",
       "  playbackRate: 1,\n",
       "  readyState  : 4,\n",
       "  seeking     : False,\n",
       "  videoHeight : 540,\n",
       "  videoWidth  : 961,\n",
       "  volume      : 1}]"
      ]
     },
     "execution_count": 7,
     "metadata": {},
     "output_type": "execute_result"
    }
   ],
   "source": [
    "wid.wid_video.properties"
   ]
  },
  {
   "cell_type": "code",
   "execution_count": 9,
   "metadata": {},
   "outputs": [
    {
     "data": {
      "text/plain": [
       "'0.2.0'"
      ]
     },
     "execution_count": 9,
     "metadata": {},
     "output_type": "execute_result"
    }
   ],
   "source": [
    "wid.wid_timecode._model_module_version"
   ]
  },
  {
   "cell_type": "markdown",
   "metadata": {},
   "source": [
    "# Components"
   ]
  },
  {
   "cell_type": "code",
   "execution_count": 11,
   "metadata": {
    "collapsed": true
   },
   "outputs": [],
   "source": [
    "# HTML5 video widget\n",
    "wid_video = Video(f)\n",
    "wid_video.set_property('controls', False)\n",
    "\n",
    "# Timecode\n",
    "wid_timecode = TimeCode()\n",
    "\n",
    "# Slider\n",
    "wid_slider = ipywidgets.FloatSlider(step=1/fps, continuous_update=True, readout=False)\n",
    "wid_slider.layout.width='500pt'"
   ]
  },
  {
   "cell_type": "markdown",
   "metadata": {},
   "source": [
    "# Assemble"
   ]
  },
  {
   "cell_type": "code",
   "execution_count": 12,
   "metadata": {
    "collapsed": true
   },
   "outputs": [],
   "source": [
    "wid_controls = ipywidgets.HBox(children=[wid_timecode, wid_slider])\n",
    "wid_outer = ipywidgets.VBox(children=[wid_video, wid_controls])\n",
    "\n",
    "# Link widgets at front end\n",
    "ipywidgets.jslink((wid_video, 'current_time'), (wid_slider, 'value'))\n",
    "ipywidgets.jsdlink((wid_video, 'current_time'), (wid_timecode, 'timecode'))"
   ]
  },
  {
   "cell_type": "markdown",
   "metadata": {},
   "source": [
    "# Event Handlers"
   ]
  },
  {
   "cell_type": "code",
   "execution_count": 13,
   "metadata": {
    "collapsed": true,
    "scrolled": true
   },
   "outputs": [],
   "source": [
    "# def handle_any(wid, **event):\n",
    "#     \"\"\"Respond to any event type\n",
    "#     \"\"\"\n",
    "#     update_timecode(wid_time, wid_video.properties.currentTime)\n",
    "\n",
    "    \n",
    "def handle_displayed(wid, **event):\n",
    "    \"\"\"Do stuff that can only be done after widget is displayed\n",
    "    \"\"\"\n",
    "    wid.set_property('controls', False)\n",
    "\n",
    "\n",
    "def handle_loaded_metadata(wid, **event):\n",
    "    \"\"\"Function to be called when sufficient video metadata has been loaded at the frontend\n",
    "    \"\"\"\n",
    "    pass\n",
    "#     print(wid.properties)\n",
    "\n",
    "\n",
    "def handle_duration_change(wid, **event):\n",
    "    \"\"\"Update anything that depends on video duration\n",
    "    \"\"\"\n",
    "    wid_slider.max = wid.properties.duration\n",
    "    \n",
    "    \n",
    "wid_video.on_displayed(handle_displayed)\n",
    "# wid_video.on_event(handle_any)\n",
    "wid_video.on_event(handle_loaded_metadata, 'loadedmetadata')\n",
    "wid_video.on_event(handle_duration_change, 'loadedmetadata')\n",
    "wid_video.on_event(handle_duration_change, 'durationchange')"
   ]
  },
  {
   "cell_type": "code",
   "execution_count": 17,
   "metadata": {},
   "outputs": [
    {
     "data": {
      "application/vnd.jupyter.widget-view+json": {
       "model_id": "f4f20807440342d4878b67fe598c7deb"
      }
     },
     "metadata": {},
     "output_type": "display_data"
    }
   ],
   "source": []
  },
  {
   "cell_type": "code",
   "execution_count": 12,
   "metadata": {
    "collapsed": true
   },
   "outputs": [],
   "source": []
  },
  {
   "cell_type": "code",
   "execution_count": null,
   "metadata": {
    "collapsed": true
   },
   "outputs": [],
   "source": []
  }
 ],
 "metadata": {
  "kernelspec": {
   "display_name": "Python 3",
   "language": "python",
   "name": "python3"
  },
  "language_info": {
   "codemirror_mode": {
    "name": "ipython",
    "version": 3
   },
   "file_extension": ".py",
   "mimetype": "text/x-python",
   "name": "python",
   "nbconvert_exporter": "python",
   "pygments_lexer": "ipython3",
   "version": "3.6.1"
  },
  "widgets": {
   "state": {
    "4b36de550fa048eca86094e2f5854a38": {
     "views": [
      {
       "cell_index": 4
      },
      {
       "cell_index": 6
      }
     ]
    }
   },
   "version": "1.2.0"
  }
 },
 "nbformat": 4,
 "nbformat_minor": 2
}
