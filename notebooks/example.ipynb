{
 "cells": [
  {
   "cell_type": "markdown",
   "metadata": {},
   "source": [
    "# Local Video Files and Builtin HTTP Server\n",
    "\n",
    "This example illustrates use of the video play widget when the video files are local to the Jupyter server.  You may need to change file names to match your situation.  I did not include any cumbersome video files in the widget repository. \n",
    "\n",
    "The Jupyter notebook server is a complex application developed with the tornado web server.  The Jupyter server and its extension system was simply too complicated for me to add the capabilities I needed for server video files.  The web server is derived entirely from standard Python library components (e.g. SimpleHTTPServer).\n",
    "\n",
    "The video widget also includes a handy dandy Python http web server with support for [byte range requests](https://en.wikipedia.org/wiki/Byte_serving).  \n"
   ]
  },
  {
   "cell_type": "code",
   "execution_count": 6,
   "metadata": {
    "collapsed": true
   },
   "outputs": [],
   "source": [
    "import IPython\n",
    "import ipywidgets\n",
    "\n",
    "from jpy_video import Video, TimeCode"
   ]
  },
  {
   "cell_type": "code",
   "execution_count": 10,
   "metadata": {
    "collapsed": true
   },
   "outputs": [],
   "source": [
    "w=TimeCode()"
   ]
  },
  {
   "cell_type": "code",
   "execution_count": 23,
   "metadata": {
    "collapsed": true
   },
   "outputs": [],
   "source": [
    "w.timecode=10.98"
   ]
  },
  {
   "cell_type": "code",
   "execution_count": 11,
   "metadata": {},
   "outputs": [
    {
     "data": {
      "application/vnd.jupyter.widget-view+json": {
       "model_id": "a7849bd76f294aeeac07966ed2ec551c"
      }
     },
     "metadata": {},
     "output_type": "display_data"
    }
   ],
   "source": [
    "w"
   ]
  },
  {
   "cell_type": "markdown",
   "metadata": {},
   "source": [
    "# Setup"
   ]
  },
  {
   "cell_type": "code",
   "execution_count": 2,
   "metadata": {},
   "outputs": [
    {
     "data": {
      "text/plain": [
       "True"
      ]
     },
     "execution_count": 2,
     "metadata": {},
     "output_type": "execute_result"
    }
   ],
   "source": [
    "f = '/home/pierre/Videos/GoPro/Malibu/GOPR6250.intra.mp4'\n",
    "\n",
    "os.path.isfile(f)"
   ]
  },
  {
   "cell_type": "code",
   "execution_count": 3,
   "metadata": {
    "collapsed": true,
    "scrolled": true
   },
   "outputs": [],
   "source": [
    "wid = Video(f)\n",
    "# wid.layout.width='900px'"
   ]
  },
  {
   "cell_type": "code",
   "execution_count": 4,
   "metadata": {},
   "outputs": [
    {
     "data": {
      "text/plain": [
       "'http://127.0.0.1:33385//GOPR6250.intra.mp4?v=jWb2xyqfN2FU7s2R3pCNER'"
      ]
     },
     "execution_count": 4,
     "metadata": {},
     "output_type": "execute_result"
    }
   ],
   "source": [
    "wid.src"
   ]
  },
  {
   "cell_type": "code",
   "execution_count": 5,
   "metadata": {
    "scrolled": true
   },
   "outputs": [
    {
     "data": {
      "application/vnd.jupyter.widget-view+json": {
       "model_id": "e5676b722d6e434b9d7238c9d3a2aa91"
      }
     },
     "metadata": {},
     "output_type": "display_data"
    }
   ],
   "source": [
    "wid"
   ]
  },
  {
   "cell_type": "code",
   "execution_count": 6,
   "metadata": {},
   "outputs": [
    {
     "data": {
      "text/plain": [
       "{'clientHeight': 554,\n",
       " 'clientWidth': 984,\n",
       " 'controls': True,\n",
       " 'currentSrc': 'http://127.0.0.1:33385//GOPR6250.intra.mp4?v=jWb2xyqfN2FU7s2R3pCNER',\n",
       " 'currentTime': 2.267235,\n",
       " 'duration': 15.574,\n",
       " 'ended': False,\n",
       " 'muted': False,\n",
       " 'paused': True,\n",
       " 'playbackRate': 1,\n",
       " 'readyState': 4,\n",
       " 'seeking': False,\n",
       " 'type': 'timeupdate',\n",
       " 'videoHeight': 1080,\n",
       " 'videoWidth': 1920,\n",
       " 'volume': 1}"
      ]
     },
     "execution_count": 6,
     "metadata": {},
     "output_type": "execute_result"
    }
   ],
   "source": [
    "wid.properties"
   ]
  },
  {
   "cell_type": "code",
   "execution_count": null,
   "metadata": {
    "collapsed": true
   },
   "outputs": [],
   "source": []
  }
 ],
 "metadata": {
  "kernelspec": {
   "display_name": "Python 3",
   "language": "python",
   "name": "python3"
  },
  "language_info": {
   "codemirror_mode": {
    "name": "ipython",
    "version": 3
   },
   "file_extension": ".py",
   "mimetype": "text/x-python",
   "name": "python",
   "nbconvert_exporter": "python",
   "pygments_lexer": "ipython3",
   "version": "3.5.2"
  },
  "widgets": {
   "state": {
    "4b36de550fa048eca86094e2f5854a38": {
     "views": [
      {
       "cell_index": 4
      },
      {
       "cell_index": 6
      }
     ]
    }
   },
   "version": "1.2.0"
  }
 },
 "nbformat": 4,
 "nbformat_minor": 2
}
