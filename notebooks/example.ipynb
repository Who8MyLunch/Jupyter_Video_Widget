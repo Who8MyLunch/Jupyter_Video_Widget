{
 "cells": [
  {
   "cell_type": "markdown",
   "metadata": {},
   "source": [
    "# Local Video Files and Builtin HTTP Server\n",
    "\n",
    "This example illustrates use of the video play widget when the video files are local to the Jupyter server.  You may need to change file names to match your situation.  I did not include any cumbersome video files in the widget repository. \n",
    "\n",
    "The Jupyter notebook server is a complex application developed with the tornado web server.  The Jupyter server and its extension system was simply too complicated for me to add the capabilities I needed for server video files.  The web server is derived entirely from standard Python library components (e.g. SimpleHTTPServer).\n",
    "\n",
    "The video widget also includes a handy dandy Python http web server with support for [byte range requests](https://en.wikipedia.org/wiki/Byte_serving).  \n"
   ]
  },
  {
   "cell_type": "code",
   "execution_count": 62,
   "metadata": {
    "collapsed": true
   },
   "outputs": [],
   "source": [
    "import os\n",
    "\n",
    "import IPython\n",
    "import ipywidgets\n",
    "\n",
    "import nutmeg\n",
    "from jpy_video import Video"
   ]
  },
  {
   "cell_type": "code",
   "execution_count": 180,
   "metadata": {},
   "outputs": [
    {
     "data": {
      "text/html": [
       "\n",
       "<style>\n",
       "    div#notebook-container    { width: 95%; }\n",
       "    div#menubar-container     { width: 65%; }\n",
       "    div#maintoolbar-container { width: 99%; }\n",
       "</style>\n"
      ],
      "text/plain": [
       "<IPython.core.display.HTML object>"
      ]
     },
     "metadata": {},
     "output_type": "display_data"
    }
   ],
   "source": [
    "from IPython.display import display, HTML\n",
    "\n",
    "display(HTML(data=\"\"\"\n",
    "<style>\n",
    "    div#notebook-container    { width: 95%; }\n",
    "    div#menubar-container     { width: 65%; }\n",
    "    div#maintoolbar-container { width: 99%; }\n",
    "</style>\n",
    "\"\"\"))\n"
   ]
  },
  {
   "cell_type": "markdown",
   "metadata": {},
   "source": [
    "# Setup"
   ]
  },
  {
   "cell_type": "code",
   "execution_count": 181,
   "metadata": {},
   "outputs": [
    {
     "data": {
      "text/plain": [
       "True"
      ]
     },
     "execution_count": 181,
     "metadata": {},
     "output_type": "execute_result"
    }
   ],
   "source": [
    "f = '/home/pierre/Projects/GoProHelper/notebooks/data/GOPR8802.MP4'\n",
    "# f = '/home/pierre/Projects/GoProHelper/notebooks/data/GOPR8801.intra.mp4'\n",
    "# GOPR8791.MP4\n",
    "# GOPR8801.MP4\n",
    "# GOPR8802.MP4\n",
    "# GOPR8803.MP4\n",
    "\n",
    "    \n",
    "os.path.isfile(f)"
   ]
  },
  {
   "cell_type": "code",
   "execution_count": 182,
   "metadata": {},
   "outputs": [
    {
     "name": "stdout",
     "output_type": "stream",
     "text": [
      "Processing: GOPR8802.MP4\n",
      "CPU times: user 24 ms, sys: 12 ms, total: 36 ms\n",
      "Wall time: 11.7 s\n"
     ]
    }
   ],
   "source": [
    "%%time\n",
    "\n",
    "r = nutmeg.intra(f, scale_size=960, crf=18)\n",
    "r = r[0]\n",
    "\n",
    "f = r.fname_out"
   ]
  },
  {
   "cell_type": "code",
   "execution_count": 183,
   "metadata": {},
   "outputs": [
    {
     "data": {
      "text/plain": [
       "[{index        : 0,\n",
       "  codec_name   : 'h264',\n",
       "  codec_long_name: 'H.264 / AVC / MPEG-4 AVC / MPEG-4 part 10',\n",
       "  profile      : 'Constrained Baseline',\n",
       "  codec_type   : 'video',\n",
       "  codec_time_base: '1001/120000',\n",
       "  codec_tag_string: 'avc1',\n",
       "  codec_tag    : '0x31637661',\n",
       "  width        : 960,\n",
       "  height       : 540,\n",
       "  coded_width  : 960,\n",
       "  coded_height : 540,\n",
       "  has_b_frames : 0,\n",
       "  sample_aspect_ratio: '1521:1520',\n",
       "  display_aspect_ratio: '169:95',\n",
       "  pix_fmt      : 'yuvj420p',\n",
       "  level        : 32,\n",
       "  color_range  : 'pc',\n",
       "  chroma_location: 'left',\n",
       "  refs         : 1,\n",
       "  is_avc       : 'true',\n",
       "  nal_length_size: 4,\n",
       "  r_frame_rate : '60000/1001',\n",
       "  avg_frame_rate: '60000/1001',\n",
       "  time_base    : '1/60000',\n",
       "  start_pts    : 0,\n",
       "  start_time   : 0.0,\n",
       "  duration_ts  : 969000,\n",
       "  duration     : 16.15,\n",
       "  bit_rate     : 16750469,\n",
       "  bits_per_raw_sample: 8,\n",
       "  nb_frames    : 968,\n",
       "  disposition  : [{default      : 1,\n",
       "    dub          : 0,\n",
       "    original     : 0,\n",
       "    comment      : 0,\n",
       "    lyrics       : 0,\n",
       "    karaoke      : 0,\n",
       "    forced       : 0,\n",
       "    hearing_impaired: 0,\n",
       "    visual_impaired: 0,\n",
       "    clean_effects: 0,\n",
       "    attached_pic : 0,\n",
       "    timed_thumbnails: 0}],\n",
       "  tags         : [{language    : 'eng',\n",
       "    handler_name: 'VideoHandler',\n",
       "    timecode    : '16:39:29:24'}]}]"
      ]
     },
     "execution_count": 183,
     "metadata": {},
     "output_type": "execute_result"
    }
   ],
   "source": [
    "r.probe_out.streams[0]"
   ]
  },
  {
   "cell_type": "code",
   "execution_count": 184,
   "metadata": {
    "collapsed": true,
    "scrolled": true
   },
   "outputs": [],
   "source": [
    "wid = Video(f)\n",
    "# wid.layout.width='900px'"
   ]
  },
  {
   "cell_type": "code",
   "execution_count": 188,
   "metadata": {},
   "outputs": [],
   "source": [
    "wid.layout.width='960px'"
   ]
  },
  {
   "cell_type": "code",
   "execution_count": 185,
   "metadata": {
    "scrolled": true
   },
   "outputs": [
    {
     "data": {
      "application/vnd.jupyter.widget-view+json": {
       "model_id": "86a85a36072a44b0b6628199ad766b2b"
      }
     },
     "metadata": {},
     "output_type": "display_data"
    }
   ],
   "source": [
    "wid"
   ]
  },
  {
   "cell_type": "code",
   "execution_count": 186,
   "metadata": {
    "scrolled": true
   },
   "outputs": [
    {
     "data": {
      "text/plain": [
       "[{type        : 'loadedmetadata',\n",
       "  clientHeight: 728,\n",
       "  clientWidth : 1296,\n",
       "  controls    : True,\n",
       "  currentTime : 0,\n",
       "  currentSrc  : 'http://127.0.0.1:35978//GOPR8802.intra.mp4?v=6HjQCAP82z66C7zAAf9Ps3',\n",
       "  duration    : 16.192,\n",
       "  ended       : False,\n",
       "  muted       : False,\n",
       "  paused      : True,\n",
       "  playbackRate: 1,\n",
       "  readyState  : 1,\n",
       "  seeking     : False,\n",
       "  videoHeight : 540,\n",
       "  videoWidth  : 961,\n",
       "  volume      : 1}]"
      ]
     },
     "execution_count": 186,
     "metadata": {},
     "output_type": "execute_result"
    }
   ],
   "source": [
    "wid.properties"
   ]
  },
  {
   "cell_type": "code",
   "execution_count": null,
   "metadata": {
    "collapsed": true
   },
   "outputs": [],
   "source": []
  }
 ],
 "metadata": {
  "kernelspec": {
   "display_name": "Python 3",
   "language": "python",
   "name": "python3"
  },
  "language_info": {
   "codemirror_mode": {
    "name": "ipython",
    "version": 3
   },
   "file_extension": ".py",
   "mimetype": "text/x-python",
   "name": "python",
   "nbconvert_exporter": "python",
   "pygments_lexer": "ipython3",
   "version": "3.6.1"
  },
  "widgets": {
   "state": {
    "4b36de550fa048eca86094e2f5854a38": {
     "views": [
      {
       "cell_index": 4
      },
      {
       "cell_index": 6
      }
     ]
    }
   },
   "version": "1.2.0"
  }
 },
 "nbformat": 4,
 "nbformat_minor": 2
}
