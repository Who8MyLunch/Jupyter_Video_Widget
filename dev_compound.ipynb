{
 "cells": [
  {
   "cell_type": "markdown",
   "metadata": {},
   "source": [
    "# Develop Compound Video Player Widget"
   ]
  },
  {
   "cell_type": "code",
   "execution_count": 1,
   "metadata": {},
   "outputs": [],
   "source": [
    "import IPython\n",
    "import ipywidgets\n",
    "\n",
    "from video_widget import Video"
   ]
  },
  {
   "cell_type": "markdown",
   "metadata": {},
   "source": [
    "# Helpers"
   ]
  },
  {
   "cell_type": "code",
   "execution_count": 2,
   "metadata": {
    "collapsed": true
   },
   "outputs": [],
   "source": [
    "_template_time = \"\"\"\n",
    "<p style=\"font-family: DejaVu Sans Mono, Consolas, Lucida Console, Monospace;\n",
    "          font-variant: normal;\n",
    "          font-weight: bold;\n",
    "          font-style: normal;\n",
    "          margin-left: 2pt;\n",
    "          margin-right: 2pt;\n",
    "          font-size: 10pt;\n",
    "          line-height: 13pt;\n",
    "          \">{h:02d}:{m:02d}:{s:02d}:{f:02d}</p>\n",
    "\"\"\"\n",
    "\n",
    "def update_timecode(wid, time, time_base=1/30):\n",
    "    \"\"\"\n",
    "    Update nicely-formatted timecode\n",
    "    \n",
    "    time: seconds\n",
    "    \"\"\"\n",
    "    h = int(time/60/60)\n",
    "    m = int(time/60)\n",
    "    s = int(time - h*60*60 - m*60)\n",
    "    f = int((time - int(time))/time_base)\n",
    "    \n",
    "    wid.value = _template_time.format(h=h, m=m, s=s, f=f)\n",
    "    \n",
    "    \n",
    "def make_timecode():\n",
    "    \"\"\"Create timecode widget\n",
    "    \"\"\"\n",
    "    wid = ipywidgets.HTML()\n",
    "\n",
    "    wid.layout.border='1px solid grey'\n",
    "    wid.layout.width='110pt'  # 'fit-content'\n",
    "    wid.layout.justify_content = 'center'\n",
    "    # wid_time.layout.width='110pt'\n",
    "\n",
    "    return wid\n"
   ]
  },
  {
   "cell_type": "markdown",
   "metadata": {},
   "source": [
    "# Setup"
   ]
  },
  {
   "cell_type": "code",
   "execution_count": 3,
   "metadata": {},
   "outputs": [
    {
     "data": {
      "text/plain": [
       "True"
      ]
     },
     "execution_count": 3,
     "metadata": {},
     "output_type": "execute_result"
    }
   ],
   "source": [
    "f = '/home/pierre/Videos/GoPro/Malibu/GOPR6250.intra.mp4'\n",
    "\n",
    "os.path.isfile(f)"
   ]
  },
  {
   "cell_type": "markdown",
   "metadata": {},
   "source": [
    "# Components"
   ]
  },
  {
   "cell_type": "code",
   "execution_count": 4,
   "metadata": {
    "collapsed": true
   },
   "outputs": [],
   "source": [
    "time_base = 1/30\n",
    "\n",
    "# HTML5 video widget\n",
    "wid_video = Video(f)\n",
    "wid_video.set_property('controls', False)\n",
    "\n",
    "# Timecode\n",
    "wid_time = ipywidgets.HTML()\n",
    "wid_time.layout.border='1px solid grey'\n",
    "wid_time.layout.justify_content = 'center'\n",
    "wid_time.layout.width='fit-content'\n",
    "\n",
    "# Slider\n",
    "wid_slider = ipywidgets.FloatSlider(step=time_base, continuous_update=True, readout=False)\n",
    "wid_slider.layout.width='500pt'"
   ]
  },
  {
   "cell_type": "markdown",
   "metadata": {},
   "source": [
    "# Assemble"
   ]
  },
  {
   "cell_type": "code",
   "execution_count": 5,
   "metadata": {
    "collapsed": true
   },
   "outputs": [],
   "source": [
    "wid_controls = ipywidgets.HBox(children=[wid_time, wid_slider])\n",
    "wid_outer = ipywidgets.VBox(children=[wid_video, wid_controls])\n",
    "\n",
    "# Video current time <---> slider value\n",
    "ipywidgets.jslink((wid_video, 'current_time'), (wid_slider, 'value'))"
   ]
  },
  {
   "cell_type": "markdown",
   "metadata": {},
   "source": [
    "# Event Handlers"
   ]
  },
  {
   "cell_type": "code",
   "execution_count": 6,
   "metadata": {
    "collapsed": true,
    "scrolled": true
   },
   "outputs": [],
   "source": [
    "def handle_any(wid, **event):\n",
    "    \"\"\"Respond to any event type\n",
    "    \"\"\"\n",
    "    update_timecode(wid_time, wid_video.properties.currentTime)\n",
    "\n",
    "    \n",
    "def handle_displayed(wid, **event):\n",
    "    \"\"\"Do stuff that can only be done after widget is displayed\n",
    "    \"\"\"\n",
    "    wid.set_property('controls', False)\n",
    "\n",
    "\n",
    "def handle_loaded_metadata(wid, **event):\n",
    "    \"\"\"Function to be called when sufficient video metadata has been loaded at the frontend\n",
    "    \"\"\"\n",
    "    print(wid.properties)\n",
    "\n",
    "\n",
    "def handle_duration_change(wid, **event):\n",
    "    \"\"\"Update anything that depends on video duration\n",
    "    \"\"\"\n",
    "    wid_slider.max = wid.properties.duration\n",
    "    \n",
    "    \n",
    "wid_video.on_displayed(handle_displayed)\n",
    "wid_video.on_event(handle_any)\n",
    "wid_video.on_event(handle_loaded_metadata, 'loadedmetadata')\n",
    "wid_video.on_event(handle_duration_change, 'loadedmetadata')\n",
    "wid_video.on_event(handle_duration_change, 'durationchange')"
   ]
  },
  {
   "cell_type": "markdown",
   "metadata": {},
   "source": [
    "# Display"
   ]
  },
  {
   "cell_type": "code",
   "execution_count": 7,
   "metadata": {
    "scrolled": true
   },
   "outputs": [
    {
     "data": {
      "application/vnd.jupyter.widget-view+json": {
       "model_id": "573550f52c3848c4bf24c68f2ffa50ea"
      }
     },
     "metadata": {},
     "output_type": "display_data"
    },
    {
     "name": "stdout",
     "output_type": "stream",
     "text": [
      "{'clientWidth': 984, 'playbackRate': 1, 'duration': 15.574, 'seeking': False, 'volume': 1, 'muted': False, 'readyState': 1, 'type': 'loadedmetadata', 'paused': True, 'ended': False, 'videoWidth': 1920, 'clientHeight': 554, 'controls': False, 'currentTime': 0, 'currentSrc': 'http://127.0.0.1:46865//GOPR6250.intra.mp4?v=8DKjZ6srGJeXvsTjJVSsZE', 'videoHeight': 1080}\n"
     ]
    }
   ],
   "source": [
    "wid_outer"
   ]
  },
  {
   "cell_type": "code",
   "execution_count": 9,
   "metadata": {},
   "outputs": [
    {
     "data": {
      "text/plain": [
       "{'currentTime': 0.470093, 'type': 'timeupdate'}"
      ]
     },
     "execution_count": 9,
     "metadata": {},
     "output_type": "execute_result"
    }
   ],
   "source": [
    "wid_video.properties"
   ]
  },
  {
   "cell_type": "code",
   "execution_count": 10,
   "metadata": {
    "collapsed": true
   },
   "outputs": [],
   "source": [
    "import traitlets"
   ]
  },
  {
   "cell_type": "code",
   "execution_count": null,
   "metadata": {
    "collapsed": true
   },
   "outputs": [],
   "source": [
    "traitlets.observe"
   ]
  },
  {
   "cell_type": "code",
   "execution_count": 10,
   "metadata": {},
   "outputs": [
    {
     "data": {
      "text/plain": [
       "['', 'loadedmetadata', 'durationchange']"
      ]
     },
     "execution_count": 10,
     "metadata": {},
     "output_type": "execute_result"
    }
   ],
   "source": [
    "wid_video._known_event_types"
   ]
  },
  {
   "cell_type": "code",
   "execution_count": 13,
   "metadata": {},
   "outputs": [
    {
     "data": {
      "text/plain": [
       "['', 'loadedmetadata', 'durationchange']"
      ]
     },
     "execution_count": 13,
     "metadata": {},
     "output_type": "execute_result"
    }
   ],
   "source": [
    "wid_video._known_event_types"
   ]
  },
  {
   "cell_type": "code",
   "execution_count": null,
   "metadata": {
    "collapsed": true
   },
   "outputs": [],
   "source": [
    "        #$ Build the parts\n",
    "        wid_video = Video(source)\n",
    "\n",
    "        wid_video.layout.width = '100%'  # scale to fit inside parent element\n",
    "        wid_video.layout.align_self = 'center'\n",
    "        wid_video.layout.border = '2px solid grey'\n",
    "\n",
    "        wid_button = ipywidgets.Button(icon='play')  # http://fontawesome.io/icon/pause/\n",
    "\n",
    "        ipywidgets.Label()\n",
    "\n",
    "        ipywidgets.HBox\n",
    "        ipywidgets.VBox\n",
    "        ipywidgets.FloatSlider\n",
    "        ipywidgets.jslink\n",
    "        ipywidgets.jsdlink\n",
    "\n",
    "        # Store things in self\n",
    "        # self.asdsadsad = asdasd\n"
   ]
  },
  {
   "cell_type": "code",
   "execution_count": 17,
   "metadata": {},
   "outputs": [
    {
     "data": {
      "application/vnd.jupyter.widget-view+json": {
       "model_id": "f4f20807440342d4878b67fe598c7deb"
      }
     },
     "metadata": {},
     "output_type": "display_data"
    }
   ],
   "source": []
  },
  {
   "cell_type": "code",
   "execution_count": 28,
   "metadata": {
    "collapsed": true
   },
   "outputs": [],
   "source": [
    "update_timecode(wid_time, 122.55)"
   ]
  },
  {
   "cell_type": "code",
   "execution_count": 12,
   "metadata": {
    "collapsed": true
   },
   "outputs": [],
   "source": []
  },
  {
   "cell_type": "code",
   "execution_count": null,
   "metadata": {
    "collapsed": true
   },
   "outputs": [],
   "source": []
  }
 ],
 "metadata": {
  "kernelspec": {
   "display_name": "Python 3",
   "language": "python",
   "name": "python3"
  },
  "language_info": {
   "codemirror_mode": {
    "name": "ipython",
    "version": 3
   },
   "file_extension": ".py",
   "mimetype": "text/x-python",
   "name": "python",
   "nbconvert_exporter": "python",
   "pygments_lexer": "ipython3",
   "version": "3.5.2"
  },
  "widgets": {
   "state": {
    "4b36de550fa048eca86094e2f5854a38": {
     "views": [
      {
       "cell_index": 4
      },
      {
       "cell_index": 6
      }
     ]
    }
   },
   "version": "1.2.0"
  }
 },
 "nbformat": 4,
 "nbformat_minor": 2
}
